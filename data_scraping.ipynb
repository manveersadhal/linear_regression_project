{
 "cells": [
  {
   "cell_type": "code",
   "execution_count": 28,
   "id": "369f9bff",
   "metadata": {},
   "outputs": [],
   "source": [
    "import pandas as pd\n",
    "import numpy as np\n",
    "from sklearn.linear_model import LinearRegression\n",
    "from bs4 import BeautifulSoup\n",
    "import requests\n",
    "from datetime import datetime\n",
    "import re\n",
    "import time\n",
    "import os\n",
    "from selenium import webdriver\n",
    "from selenium.webdriver.common.keys import Keys\n",
    "import random"
   ]
  },
  {
   "cell_type": "code",
   "execution_count": 5,
   "id": "ed30ee66",
   "metadata": {},
   "outputs": [],
   "source": [
    "#create url list\n",
    "chromedriver = \"/Users/manveersadhal/Downloads/chromedriver\" # path to the chromedriver executable\n",
    "os.environ[\"webdriver.chrome.driver\"] = chromedriver"
   ]
  },
  {
   "cell_type": "code",
   "execution_count": 6,
   "id": "78e87aa6",
   "metadata": {},
   "outputs": [],
   "source": [
    "#homepage for e46 m3 auctions\n",
    "e46_m3_url = 'https://bringatrailer.com/bmw/e46-m3/' "
   ]
  },
  {
   "cell_type": "code",
   "execution_count": 7,
   "id": "46a06df5",
   "metadata": {},
   "outputs": [],
   "source": [
    "driver = webdriver.Chrome(chromedriver)\n",
    "driver.get(e46_m3_url)\n",
    "time.sleep(2)"
   ]
  },
  {
   "cell_type": "code",
   "execution_count": 9,
   "id": "b3eb4e63",
   "metadata": {},
   "outputs": [],
   "source": [
    "soup_initial = BeautifulSoup(driver.page_source, 'html5lib')\n",
    "total_completed_auctions = int(soup_initial.find('span', attrs = {'data-bind' : \"text: formattedTotal\"}).string)\n",
    "initial_auctions_loaded = 32\n",
    "items_per_click = 32\n",
    "times_to_click = (total_completed_auctions - initial_auctions_loaded) // items_per_click + 1\n",
    "\n",
    "show_more_button = driver.find_element_by_xpath('/html/body/div[2]/div[2]/div/div/div[6]/div[3]/div[4]/button/span[1]')\n",
    "\n",
    "for i in range(times_to_click):\n",
    "    try:\n",
    "        show_more_button.click()\n",
    "    except StaleElementReferenceException:\n",
    "        print(f'{e46_m3_url} - no more auctions to load')\n",
    "    time.sleep(5)\n",
    "        \n",
    "soup_fully_loaded = BeautifulSoup(driver.page_source, 'html5lib')"
   ]
  },
  {
   "cell_type": "code",
   "execution_count": 12,
   "id": "2fa6139e",
   "metadata": {},
   "outputs": [],
   "source": [
    "soup_e46_main = BeautifulSoup(driver.page_source, 'html5lib')"
   ]
  },
  {
   "cell_type": "code",
   "execution_count": 14,
   "id": "9ae955aa",
   "metadata": {},
   "outputs": [],
   "source": [
    "url_anchor_list = soup_e46_main.find_all('a', attrs={'data-bind' : \"attr: { href: url }\"})"
   ]
  },
  {
   "cell_type": "code",
   "execution_count": 15,
   "id": "93b4b98c",
   "metadata": {},
   "outputs": [],
   "source": [
    "url_list = [link['href'] for link in url_anchor_list]"
   ]
  },
  {
   "cell_type": "code",
   "execution_count": 17,
   "id": "c276b77f",
   "metadata": {},
   "outputs": [],
   "source": [
    "e46_m3_url_list_df = pd.DataFrame(url_list)"
   ]
  },
  {
   "cell_type": "code",
   "execution_count": 18,
   "id": "59c4e26b",
   "metadata": {},
   "outputs": [],
   "source": [
    "e46_m3_url_list_df.to_csv('e46_m3_url_list', header = False)"
   ]
  },
  {
   "cell_type": "code",
   "execution_count": 19,
   "id": "f9d49986",
   "metadata": {},
   "outputs": [],
   "source": [
    "e36_m3_url = 'https://bringatrailer.com/bmw/e36-m3/' "
   ]
  },
  {
   "cell_type": "code",
   "execution_count": 20,
   "id": "bbbf0d79",
   "metadata": {},
   "outputs": [],
   "source": [
    "driver.get(e36_m3_url)\n",
    "time.sleep(2)"
   ]
  },
  {
   "cell_type": "code",
   "execution_count": 21,
   "id": "38fece0e",
   "metadata": {},
   "outputs": [],
   "source": [
    "soup_initial = BeautifulSoup(driver.page_source, 'html5lib')\n",
    "total_completed_auctions = int(soup_initial.find('span', attrs = {'data-bind' : \"text: formattedTotal\"}).string)\n",
    "initial_auctions_loaded = 32\n",
    "items_per_click = 32\n",
    "times_to_click = (total_completed_auctions - initial_auctions_loaded) // items_per_click + 1\n",
    "\n",
    "show_more_button = driver.find_element_by_xpath('/html/body/div[2]/div[2]/div/div/div[5]/div[3]/div[4]/button/span[1]')\n",
    "\n",
    "for i in range(times_to_click):\n",
    "    try:\n",
    "        show_more_button.click()\n",
    "    except StaleElementReferenceException:\n",
    "        print(f'{e36_m3_url} - no more auctions to load')\n",
    "    time.sleep(5)\n",
    "        \n",
    "soup_fully_loaded = BeautifulSoup(driver.page_source, 'html5lib')"
   ]
  },
  {
   "cell_type": "code",
   "execution_count": 22,
   "id": "8d911c47",
   "metadata": {},
   "outputs": [],
   "source": [
    "soup_e36_main = BeautifulSoup(driver.page_source, 'html5lib')"
   ]
  },
  {
   "cell_type": "code",
   "execution_count": 23,
   "id": "a1b8d9e7",
   "metadata": {},
   "outputs": [],
   "source": [
    "url_anchor_list = soup_e36_main.find_all('a', attrs={'data-bind' : \"attr: { href: url }\"})"
   ]
  },
  {
   "cell_type": "code",
   "execution_count": 24,
   "id": "576426ac",
   "metadata": {},
   "outputs": [],
   "source": [
    "url_list = [link['href'] for link in url_anchor_list]"
   ]
  },
  {
   "cell_type": "code",
   "execution_count": 25,
   "id": "31a57d78",
   "metadata": {},
   "outputs": [],
   "source": [
    "e36_m3_url_list_df = pd.DataFrame(url_list)"
   ]
  },
  {
   "cell_type": "code",
   "execution_count": 26,
   "id": "679c605f",
   "metadata": {},
   "outputs": [],
   "source": [
    "e36_m3_url_list_df.to_csv('e36_m3_url_list', header = False)"
   ]
  },
  {
   "cell_type": "code",
   "execution_count": 83,
   "id": "bd7c6710",
   "metadata": {},
   "outputs": [],
   "source": [
    "driver.quit()"
   ]
  },
  {
   "cell_type": "code",
   "execution_count": 107,
   "id": "6ac1a22c",
   "metadata": {},
   "outputs": [],
   "source": [
    "def get_body_style(title):\n",
    "    if 'convertible' in title.text.lower():\n",
    "        body_style = 'Convertible'\n",
    "    else:\n",
    "        body_style = 'Hard top'\n",
    "    return body_style\n",
    "\n",
    "\n",
    "def get_model_year(title):\n",
    "    match_str = re.search(r'\\d{4}', title.text)\n",
    "    return datetime.strptime(match_str.group(), '%Y').date().year\n",
    "\n",
    "\n",
    "def get_mileage(essentials_list):\n",
    "    keywords = ['mile', 'km', 'kilometer']\n",
    "    for item in essentials_list:\n",
    "        if any(word in str(item).lower() for word in keywords):\n",
    "            temp = BeautifulSoup(str(item))\n",
    "            mileage = temp.get_text()\n",
    "            break\n",
    "        else:\n",
    "            mileage = 'Unknown'\n",
    "    return mileage\n",
    "\n",
    "    \n",
    "def get_transmission(essentials_list):\n",
    "    keywords = ['transmission', 'manual', 'smg', 'sequential', 'gearbox', 'trans']\n",
    "    for item in essentials_list:\n",
    "        if any(word in str(item).lower() for word in keywords):\n",
    "            temp = BeautifulSoup(str(item))\n",
    "            transmission = temp.get_text()\n",
    "            break\n",
    "        else:\n",
    "            transmission = 'Unknown'\n",
    "    return transmission\n",
    "\n",
    "\n",
    "def get_VIN(essentials_list):\n",
    "    keywords = ['chassis', 'vin']\n",
    "    for item in essentials_list:\n",
    "        if any(word in str(item).lower() for word in keywords):\n",
    "            temp = BeautifulSoup(str(item))\n",
    "            VIN = temp.get_text()\n",
    "            break\n",
    "        else:\n",
    "            VIN = 'Unknown'\n",
    "    return VIN\n",
    "\n",
    "\n",
    "def get_seller_type(essentials_list):\n",
    "    keywords = ['private party', 'dealer']\n",
    "    for item in essentials_list:\n",
    "        if any(word in str(item).lower() for word in keywords):\n",
    "            temp = BeautifulSoup(str(item))\n",
    "            seller_type = temp.get_text()\n",
    "            break\n",
    "        else:\n",
    "            seller_type = 'Unknown'\n",
    "    return seller_type\n",
    "\n",
    "\n",
    "def get_location(essentials_list):\n",
    "    keywords = ['location']\n",
    "    for item in essentials_list:\n",
    "        if any(word in str(item).lower() for word in keywords):\n",
    "            temp = BeautifulSoup(str(item))\n",
    "            location = temp.get_text()\n",
    "            break\n",
    "        else:\n",
    "            location = 'Unknown'\n",
    "    return location\n",
    "\n",
    "\n",
    "def get_interior_color(essentials_list):\n",
    "    keywords = ['leather', 'cloth', 'alcantara', 'upholstery']\n",
    "    for item in essentials_list:\n",
    "        if any(word in str(item).lower() for word in keywords):\n",
    "            temp = BeautifulSoup(str(item))\n",
    "            interior_color = temp.get_text()\n",
    "            break\n",
    "        else:\n",
    "            interior_color = 'Unknown'\n",
    "    return interior_color\n",
    "\n",
    "\n",
    "def get_exterior_color(essentials_list):\n",
    "    keywords = ['black', 'white', 'jet', 'carbon', 'sapphire', 'silver', 'gray metallic', 'grey metallic', 'blue', 'topaz', 'mystic', 'interlagos', 'fern', 'oxford', 'green', 'imola', 'laguna seca', 'metallic', 'phoenix', 'yellow', 'red']\n",
    "    antikeywords = ['nappa', 'leather', 'upholstery']\n",
    "    for item in essentials_list:\n",
    "        if any(word in str(item).lower() for word in keywords) and not(any(word in str(item).lower() for word in antikeywords)):\n",
    "            temp = BeautifulSoup(str(item))\n",
    "            exterior_color = temp.get_text()\n",
    "            break\n",
    "        else:\n",
    "            exterior_color = 'Unknown'\n",
    "    return exterior_color\n",
    "\n",
    "\n",
    "def get_date_sold(soup):\n",
    "    month_sold, day_sold, year_sold = soup.find('div', class_ = 'listing-available-info').find_all('span', class_ = 'data-value')[1].string.split('/')\n",
    "    month_sold = month_sold.rjust(2, '0')\n",
    "    day_sold = day_sold.rjust(2, '0')\n",
    "    year_sold = '20' + year_sold\n",
    "    date_sold = datetime.strptime(f'{month_sold}/{day_sold}/{year_sold}', '%m/%d/%Y')\n",
    "    return date_sold\n",
    "\n",
    "\n",
    "def scrape_data(url_list, cars_df):\n",
    "    chromedriver = \"/Users/manveersadhal/Downloads/chromedriver\" # path to the chromedriver executable\n",
    "    os.environ[\"webdriver.chrome.driver\"] = chromedriver\n",
    "    driver = webdriver.Chrome(chromedriver)\n",
    "    for i, url in enumerate(url_list):\n",
    "        driver.get(url)\n",
    "        wait = 3 + 2*random.random()\n",
    "        time.sleep(wait)\n",
    "        soup = BeautifulSoup(driver.page_source, 'html5lib')\n",
    "        num_photos = len(soup.find_all('img', attrs={'data-bind' : \"attr: { src: images.small.url }\"}))\n",
    "        if num_photos >= 60: #max photos in gallery is 60, but sometimes photos in comments are caught in this search\n",
    "            if soup.find('span', attrs = {'data-bind' : \"click: $parent.show, clickBubble: false, css: { show: isLastItem }, text: $parent.moreText\"}):\n",
    "                additional_photos = int(soup.find('span', attrs = {'data-bind' : \"click: $parent.show, clickBubble: false, css: { show: isLastItem }, text: $parent.moreText\"}).string[1:])\n",
    "                num_photos = 60 + additional_photos\n",
    "        # ----IF CAR DIDN'T SELL, IT CAN'T FIND SPAN WITH THIS CLASS. CLASS IS THEN ONLY 'data-value'------\n",
    "        price = float(soup.find('span', class_ = 'data-value price').text[1:].replace(',',''))\n",
    "        essentials_list = soup.find('ul', class_ = 'listing-essentials-items').contents\n",
    "        listing_title = soup.find('h1', class_ = 'post-title listing-post-title')\n",
    "        sale_price = int(soup.find('div', class_ = 'listing-available-info').find('span', class_ = 'data-value price').string.lstrip('$').replace(',',''))\n",
    "        \n",
    "        #save html for each page to avoid having to scrape again\n",
    "        stripped_url = url.replace('https://bringatrailer.com/listing/','')[:-1]\n",
    "        filename = './html/' + stripped_url + '.html'\n",
    "\n",
    "        with open(filename, 'w') as f:\n",
    "            f.write(soup.text)\n",
    "        \n",
    "        cars_df = cars_df.append({'URL' : url,\n",
    "               'VIN' : get_VIN(essentials_list),\n",
    "               'YEAR' : get_model_year(listing_title),\n",
    "               'MILEAGE' : get_mileage(essentials_list),\n",
    "               'EXT_COLOR' : get_exterior_color(essentials_list),\n",
    "               'INT_COLOR' : get_interior_color(essentials_list),\n",
    "               'TRANSMISSION' : get_transmission(essentials_list),\n",
    "               'BODY_STYLE' : get_body_style(listing_title),\n",
    "               'LOCATION' : get_location(essentials_list),\n",
    "               'DATE_SOLD' : get_date_sold(soup),\n",
    "               'SELLER_TYPE' : get_seller_type(essentials_list),\n",
    "               'NUM_PHOTOS' : num_photos,\n",
    "               'SALE_PRICE' : sale_price}, ignore_index = True)\n",
    "        \n",
    "        #pause after each 50 pages and write to csv\n",
    "        if (i + 1) % 50 == 0:\n",
    "            time.sleep(5)\n",
    "            cars_df.to_csv('cars.csv')\n",
    "        \n",
    "        print(f'completed loop {i}')\n",
    "    cars_df.to_csv('cars.csv')\n",
    "    driver.quit()\n",
    "                    \n",
    "        "
   ]
  },
  {
   "cell_type": "code",
   "execution_count": 108,
   "id": "1fcfe8a8",
   "metadata": {},
   "outputs": [
    {
     "name": "stdout",
     "output_type": "stream",
     "text": [
      "completed loop 0\n",
      "completed loop 1\n",
      "completed loop 2\n",
      "completed loop 3\n",
      "completed loop 4\n",
      "completed loop 5\n",
      "completed loop 6\n",
      "completed loop 7\n",
      "completed loop 8\n",
      "completed loop 9\n",
      "completed loop 10\n",
      "completed loop 11\n",
      "completed loop 12\n",
      "completed loop 13\n",
      "completed loop 14\n",
      "completed loop 15\n",
      "completed loop 16\n",
      "completed loop 17\n",
      "completed loop 18\n",
      "completed loop 19\n",
      "completed loop 20\n",
      "completed loop 21\n",
      "completed loop 22\n"
     ]
    },
    {
     "ename": "AttributeError",
     "evalue": "'NoneType' object has no attribute 'text'",
     "output_type": "error",
     "traceback": [
      "\u001b[0;31m---------------------------------------------------------------------------\u001b[0m",
      "\u001b[0;31mAttributeError\u001b[0m                            Traceback (most recent call last)",
      "\u001b[0;32m<ipython-input-108-b91bec49bf60>\u001b[0m in \u001b[0;36m<module>\u001b[0;34m\u001b[0m\n\u001b[1;32m      1\u001b[0m \u001b[0mcars_df\u001b[0m \u001b[0;34m=\u001b[0m \u001b[0mpd\u001b[0m\u001b[0;34m.\u001b[0m\u001b[0mDataFrame\u001b[0m\u001b[0;34m(\u001b[0m\u001b[0mcolumns\u001b[0m \u001b[0;34m=\u001b[0m \u001b[0;34m[\u001b[0m\u001b[0;34m'URL'\u001b[0m\u001b[0;34m,\u001b[0m \u001b[0;34m'VIN'\u001b[0m\u001b[0;34m,\u001b[0m \u001b[0;34m'YEAR'\u001b[0m\u001b[0;34m,\u001b[0m \u001b[0;34m'MILEAGE'\u001b[0m\u001b[0;34m,\u001b[0m \u001b[0;34m'EXT_COLOR'\u001b[0m\u001b[0;34m,\u001b[0m \u001b[0;34m'INT_COLOR'\u001b[0m\u001b[0;34m,\u001b[0m \u001b[0;34m'TRANSMISSION'\u001b[0m\u001b[0;34m,\u001b[0m \u001b[0;34m'BODY_STYLE'\u001b[0m\u001b[0;34m,\u001b[0m \u001b[0;34m'LOCATION'\u001b[0m\u001b[0;34m,\u001b[0m \u001b[0;34m'DATE_SOLD'\u001b[0m\u001b[0;34m,\u001b[0m \u001b[0;34m'SELLER_TYPE'\u001b[0m\u001b[0;34m,\u001b[0m \u001b[0;34m'NUM_PHOTOS'\u001b[0m\u001b[0;34m,\u001b[0m \u001b[0;34m'SALE_PRICE'\u001b[0m\u001b[0;34m]\u001b[0m\u001b[0;34m)\u001b[0m\u001b[0;34m\u001b[0m\u001b[0;34m\u001b[0m\u001b[0m\n\u001b[0;32m----> 2\u001b[0;31m \u001b[0mscrape_data\u001b[0m\u001b[0;34m(\u001b[0m\u001b[0murl_list\u001b[0m\u001b[0;34m,\u001b[0m \u001b[0mcars_df\u001b[0m\u001b[0;34m)\u001b[0m\u001b[0;34m\u001b[0m\u001b[0;34m\u001b[0m\u001b[0m\n\u001b[0m",
      "\u001b[0;32m<ipython-input-107-3e484dc52cdb>\u001b[0m in \u001b[0;36mscrape_data\u001b[0;34m(url_list, cars_df)\u001b[0m\n\u001b[1;32m    120\u001b[0m                 \u001b[0madditional_photos\u001b[0m \u001b[0;34m=\u001b[0m \u001b[0mint\u001b[0m\u001b[0;34m(\u001b[0m\u001b[0msoup\u001b[0m\u001b[0;34m.\u001b[0m\u001b[0mfind\u001b[0m\u001b[0;34m(\u001b[0m\u001b[0;34m'span'\u001b[0m\u001b[0;34m,\u001b[0m \u001b[0mattrs\u001b[0m \u001b[0;34m=\u001b[0m \u001b[0;34m{\u001b[0m\u001b[0;34m'data-bind'\u001b[0m \u001b[0;34m:\u001b[0m \u001b[0;34m\"click: $parent.show, clickBubble: false, css: { show: isLastItem }, text: $parent.moreText\"\u001b[0m\u001b[0;34m}\u001b[0m\u001b[0;34m)\u001b[0m\u001b[0;34m.\u001b[0m\u001b[0mstring\u001b[0m\u001b[0;34m[\u001b[0m\u001b[0;36m1\u001b[0m\u001b[0;34m:\u001b[0m\u001b[0;34m]\u001b[0m\u001b[0;34m)\u001b[0m\u001b[0;34m\u001b[0m\u001b[0;34m\u001b[0m\u001b[0m\n\u001b[1;32m    121\u001b[0m                 \u001b[0mnum_photos\u001b[0m \u001b[0;34m=\u001b[0m \u001b[0;36m60\u001b[0m \u001b[0;34m+\u001b[0m \u001b[0madditional_photos\u001b[0m\u001b[0;34m\u001b[0m\u001b[0;34m\u001b[0m\u001b[0m\n\u001b[0;32m--> 122\u001b[0;31m         \u001b[0mprice\u001b[0m \u001b[0;34m=\u001b[0m \u001b[0mfloat\u001b[0m\u001b[0;34m(\u001b[0m\u001b[0msoup\u001b[0m\u001b[0;34m.\u001b[0m\u001b[0mfind\u001b[0m\u001b[0;34m(\u001b[0m\u001b[0;34m'span'\u001b[0m\u001b[0;34m,\u001b[0m \u001b[0mclass_\u001b[0m \u001b[0;34m=\u001b[0m \u001b[0;34m'data-value price'\u001b[0m\u001b[0;34m)\u001b[0m\u001b[0;34m.\u001b[0m\u001b[0mtext\u001b[0m\u001b[0;34m[\u001b[0m\u001b[0;36m1\u001b[0m\u001b[0;34m:\u001b[0m\u001b[0;34m]\u001b[0m\u001b[0;34m.\u001b[0m\u001b[0mreplace\u001b[0m\u001b[0;34m(\u001b[0m\u001b[0;34m','\u001b[0m\u001b[0;34m,\u001b[0m\u001b[0;34m''\u001b[0m\u001b[0;34m)\u001b[0m\u001b[0;34m)\u001b[0m\u001b[0;34m\u001b[0m\u001b[0;34m\u001b[0m\u001b[0m\n\u001b[0m\u001b[1;32m    123\u001b[0m         \u001b[0messentials_list\u001b[0m \u001b[0;34m=\u001b[0m \u001b[0msoup\u001b[0m\u001b[0;34m.\u001b[0m\u001b[0mfind\u001b[0m\u001b[0;34m(\u001b[0m\u001b[0;34m'ul'\u001b[0m\u001b[0;34m,\u001b[0m \u001b[0mclass_\u001b[0m \u001b[0;34m=\u001b[0m \u001b[0;34m'listing-essentials-items'\u001b[0m\u001b[0;34m)\u001b[0m\u001b[0;34m.\u001b[0m\u001b[0mcontents\u001b[0m\u001b[0;34m\u001b[0m\u001b[0;34m\u001b[0m\u001b[0m\n\u001b[1;32m    124\u001b[0m         \u001b[0mlisting_title\u001b[0m \u001b[0;34m=\u001b[0m \u001b[0msoup\u001b[0m\u001b[0;34m.\u001b[0m\u001b[0mfind\u001b[0m\u001b[0;34m(\u001b[0m\u001b[0;34m'h1'\u001b[0m\u001b[0;34m,\u001b[0m \u001b[0mclass_\u001b[0m \u001b[0;34m=\u001b[0m \u001b[0;34m'post-title listing-post-title'\u001b[0m\u001b[0;34m)\u001b[0m\u001b[0;34m\u001b[0m\u001b[0;34m\u001b[0m\u001b[0m\n",
      "\u001b[0;31mAttributeError\u001b[0m: 'NoneType' object has no attribute 'text'"
     ]
    }
   ],
   "source": [
    "cars_df = pd.DataFrame(columns = ['URL', 'VIN', 'YEAR', 'MILEAGE', 'EXT_COLOR', 'INT_COLOR', 'TRANSMISSION', 'BODY_STYLE', 'LOCATION', 'DATE_SOLD', 'SELLER_TYPE', 'NUM_PHOTOS', 'SALE_PRICE'])\n",
    "scrape_data(url_list, cars_df)"
   ]
  },
  {
   "cell_type": "code",
   "execution_count": 63,
   "id": "f820158a",
   "metadata": {},
   "outputs": [
    {
     "data": {
      "text/plain": [
       "['https://bringatrailer.com/listing/1999-bmw-m3-138/',\n",
       " 'https://bringatrailer.com/listing/1998-bmw-m3-109/',\n",
       " 'https://bringatrailer.com/listing/1999-bmw-m3-136/',\n",
       " 'https://bringatrailer.com/listing/1998-bmw-m3-sedan-70/',\n",
       " 'https://bringatrailer.com/listing/1996-bmw-m3-48/']"
      ]
     },
     "execution_count": 63,
     "metadata": {},
     "output_type": "execute_result"
    }
   ],
   "source": [
    "url_list[:5]"
   ]
  },
  {
   "cell_type": "code",
   "execution_count": 66,
   "id": "f836b2d2",
   "metadata": {},
   "outputs": [],
   "source": [
    "driver.quit()"
   ]
  },
  {
   "cell_type": "code",
   "execution_count": 76,
   "id": "59134c4e",
   "metadata": {},
   "outputs": [
    {
     "data": {
      "text/html": [
       "<div>\n",
       "<style scoped>\n",
       "    .dataframe tbody tr th:only-of-type {\n",
       "        vertical-align: middle;\n",
       "    }\n",
       "\n",
       "    .dataframe tbody tr th {\n",
       "        vertical-align: top;\n",
       "    }\n",
       "\n",
       "    .dataframe thead th {\n",
       "        text-align: right;\n",
       "    }\n",
       "</style>\n",
       "<table border=\"1\" class=\"dataframe\">\n",
       "  <thead>\n",
       "    <tr style=\"text-align: right;\">\n",
       "      <th></th>\n",
       "      <th>URL</th>\n",
       "      <th>VIN</th>\n",
       "      <th>YEAR</th>\n",
       "      <th>MILEAGE</th>\n",
       "      <th>EXT_COLOR</th>\n",
       "      <th>INT_COLOR</th>\n",
       "      <th>TRANSMISSION</th>\n",
       "      <th>BODY_STYLE</th>\n",
       "      <th>LOCATION</th>\n",
       "      <th>DATE_SOLD</th>\n",
       "      <th>SELLER_TYPE</th>\n",
       "      <th>NUM_PHOTOS</th>\n",
       "      <th>SALE_PRICE</th>\n",
       "    </tr>\n",
       "  </thead>\n",
       "  <tbody>\n",
       "  </tbody>\n",
       "</table>\n",
       "</div>"
      ],
      "text/plain": [
       "Empty DataFrame\n",
       "Columns: [URL, VIN, YEAR, MILEAGE, EXT_COLOR, INT_COLOR, TRANSMISSION, BODY_STYLE, LOCATION, DATE_SOLD, SELLER_TYPE, NUM_PHOTOS, SALE_PRICE]\n",
       "Index: []"
      ]
     },
     "execution_count": 76,
     "metadata": {},
     "output_type": "execute_result"
    }
   ],
   "source": [
    "cars_df"
   ]
  },
  {
   "cell_type": "code",
   "execution_count": null,
   "id": "ee1d0065",
   "metadata": {},
   "outputs": [],
   "source": []
  },
  {
   "cell_type": "code",
   "execution_count": null,
   "id": "5769ad5c",
   "metadata": {},
   "outputs": [],
   "source": []
  },
  {
   "cell_type": "code",
   "execution_count": null,
   "id": "bace1ba7",
   "metadata": {},
   "outputs": [],
   "source": []
  },
  {
   "cell_type": "code",
   "execution_count": null,
   "id": "260bb7fa",
   "metadata": {},
   "outputs": [],
   "source": []
  },
  {
   "cell_type": "code",
   "execution_count": null,
   "id": "566c655c",
   "metadata": {},
   "outputs": [],
   "source": []
  },
  {
   "cell_type": "code",
   "execution_count": null,
   "id": "66a2a6f7",
   "metadata": {},
   "outputs": [],
   "source": []
  },
  {
   "cell_type": "code",
   "execution_count": null,
   "id": "bdf64234",
   "metadata": {},
   "outputs": [],
   "source": []
  },
  {
   "cell_type": "code",
   "execution_count": 82,
   "id": "5f27fb75",
   "metadata": {},
   "outputs": [
    {
     "data": {
      "text/plain": [
       "40250.0"
      ]
     },
     "execution_count": 82,
     "metadata": {},
     "output_type": "execute_result"
    }
   ],
   "source": [
    "price = float(soup.find('span', class_ = 'data-value price').text[1:].replace(',',''))\n",
    "price"
   ]
  },
  {
   "cell_type": "code",
   "execution_count": 94,
   "id": "d62f55e3",
   "metadata": {
    "scrolled": true
   },
   "outputs": [
    {
     "data": {
      "text/plain": [
       "'Estoril Blue Metallic'"
      ]
     },
     "execution_count": 94,
     "metadata": {},
     "output_type": "execute_result"
    }
   ],
   "source": [
    "def get_mileage(essentials_list):\n",
    "    keywords = ['mile', 'km', 'kilometer']\n",
    "    for item in essentials_list:\n",
    "        if any(word in str(item).lower() for word in keywords):\n",
    "            temp = BeautifulSoup(str(item))\n",
    "            mileage = temp.get_text()\n",
    "    return mileage\n",
    "\n",
    "    \n",
    "def get_transmission(essentials_list):\n",
    "    keywords = ['transmission', 'manual', 'smg', 'sequential', 'gearbox', 'trans']\n",
    "    for item in essentials_list:\n",
    "        if any(word in str(item).lower() for word in keywords):\n",
    "            temp = BeautifulSoup(str(item))\n",
    "            transmission = temp.get_text()\n",
    "    return transmission\n",
    "\n",
    "\n",
    "def get_VIN(essentials_list):\n",
    "    keywords = ['chassis', 'vin']\n",
    "    for item in essentials_list:\n",
    "        if any(word in str(item).lower() for word in keywords):\n",
    "            temp = BeautifulSoup(str(item))\n",
    "            VIN = temp.get_text()\n",
    "    return VIN\n",
    "\n",
    "\n",
    "def get_seller_type(essentials_list):\n",
    "    keywords = ['private party', 'dealer']\n",
    "    for item in essentials_list:\n",
    "        if any(word in str(item).lower() for word in keywords):\n",
    "            temp = BeautifulSoup(str(item))\n",
    "            seller_type = temp.get_text()\n",
    "    return seller_type\n",
    "\n",
    "\n",
    "def get_location(essentials_list):\n",
    "    keywords = ['location']\n",
    "    for item in essentials_list:\n",
    "        if any(word in str(item).lower() for word in keywords):\n",
    "            temp = BeautifulSoup(str(item))\n",
    "            location = temp.get_text()\n",
    "    return location\n",
    "\n",
    "\n",
    "def get_interior_color(essentials_list):\n",
    "    keywords = ['leather', 'cloth', 'alcantara']\n",
    "    for item in essentials_list:\n",
    "        if any(word in str(item).lower() for word in keywords):\n",
    "            temp = BeautifulSoup(str(item))\n",
    "            interior_color = temp.get_text()\n",
    "    return interior_color\n",
    "\n",
    "\n",
    "def get_exterior_color(essentials_list):\n",
    "    keywords = ['white', 'jet', 'carbon', 'sapphire', 'silver', 'gray metallic', 'grey metallic', 'blue', 'topaz', 'mystic', 'interlagos', 'fern', 'oxford', 'green', 'imola', 'laguna seca', 'metallic', 'phoenix', 'yellow']\n",
    "    for item in essentials_list:\n",
    "        if any(word in str(item).lower() for word in keywords):\n",
    "            temp = BeautifulSoup(str(item))\n",
    "            exterior_color = temp.get_text()\n",
    "    return exterior_color\n",
    "\n",
    "\n",
    "\n",
    "# essentials_list = soup.find('ul', class_ = 'listing-essentials-items').contents\n",
    "get_exterior_color(['<li class=\"listings-essentials-item\">Estoril Blue Metallic</li>'])"
   ]
  },
  {
   "cell_type": "code",
   "execution_count": 354,
   "id": "0a1d6a22",
   "metadata": {},
   "outputs": [
    {
     "data": {
      "text/plain": [
       "'Hard top'"
      ]
     },
     "execution_count": 354,
     "metadata": {},
     "output_type": "execute_result"
    }
   ],
   "source": [
    "def get_body_style(title):\n",
    "    if 'convertible' in title.text.lower():\n",
    "        body_style = 'Convertible'\n",
    "    else:\n",
    "        body_style = 'Hard top'\n",
    "    return body_style\n",
    "\n",
    "\n",
    "def get_model_year(title):\n",
    "    match_str = re.search(r'\\d{4}', title.text)\n",
    "    return datetime.strptime(match_str.group(), '%Y').date().year\n",
    "    \n",
    "    \n",
    "listing_title = soup.find('h1', class_ = 'post-title listing-post-title')\n",
    "get_body_style(listing_title)"
   ]
  },
  {
   "cell_type": "code",
   "execution_count": 201,
   "id": "f0128228",
   "metadata": {},
   "outputs": [
    {
     "data": {
      "text/plain": [
       "40250"
      ]
     },
     "execution_count": 201,
     "metadata": {},
     "output_type": "execute_result"
    }
   ],
   "source": [
    "sale_price = int(soup.find('div', class_ = 'listing-available-info').find('span', class_ = 'data-value price').string.lstrip('$').replace(',',''))\n",
    "sale_price"
   ]
  },
  {
   "cell_type": "code",
   "execution_count": 223,
   "id": "5d211baf",
   "metadata": {},
   "outputs": [
    {
     "data": {
      "text/plain": [
       "datetime.datetime(2021, 9, 15, 0, 0)"
      ]
     },
     "execution_count": 223,
     "metadata": {},
     "output_type": "execute_result"
    }
   ],
   "source": [
    "def get_date_sold():\n",
    "    month_sold, day_sold, year_sold = soup.find('div', class_ = 'listing-available-info').find_all('span', class_ = 'data-value')[1].string.split('/')\n",
    "    month_sold = month_sold.rjust(2, '0')\n",
    "    day_sold = day_sold.rjust(2, '0')\n",
    "    year_sold = '20' + year_sold\n",
    "    date_sold = datetime.strptime(f'{month_sold}/{day_sold}/{year_sold}', '%m/%d/%Y')\n",
    "    return date_sold\n",
    "\n",
    "\n",
    "get_date_sold()"
   ]
  },
  {
   "cell_type": "code",
   "execution_count": 269,
   "id": "844f4ee4",
   "metadata": {},
   "outputs": [
    {
     "data": {
      "text/plain": [
       "[<a class=\"search-bar-link\" data-bind=\"attr: { href: result.url }, click: $component.openResult.bind($data, $index()), event: { mouseover: $component.handleResultMouseOver.bind($data, $index()) }, css: { 'active-result': ($component.activeResultIndex() === $index()), 'view-all': result.isViewAll }\">\n",
       "                     <div class=\"search-bar-result-inner\">\n",
       "                         <span class=\"bell-icon bell-icon--model\" data-bind=\"visible: result.isSubscribed\"></span>\n",
       "                         <span data-bind=\"text: result.title\"></span>\n",
       "                     </div>\n",
       "                 </a>]"
      ]
     },
     "execution_count": 269,
     "metadata": {},
     "output_type": "execute_result"
    }
   ],
   "source": [
    "soup_home.find_all('a', attrs={'data-bind' : True})"
   ]
  },
  {
   "cell_type": "code",
   "execution_count": null,
   "id": "4cd4c7a4",
   "metadata": {},
   "outputs": [],
   "source": [
    "<a data-bind=\"attr: { href: url }\" href=\"https://bringatrailer.com/listing/2003-bmw-m3-coupe-144/\">\n",
    "                <img data-bind=\"attr: { src: images.small.url, height: images.small.height, width: images.small.width, alt: title }\" src=\"https://bringatrailer.com/wp-content/uploads/2021/08/2003_bmw_m3_coupe_16316593913ab7bdf0d6c51erick3.jpg?resize=235%2C159\" height=\"150\" width=\"150\" alt=\"16k-Mile 2003 BMW M3 Coupe\">\n",
    "            </a>"
   ]
  },
  {
   "cell_type": "code",
   "execution_count": 281,
   "id": "e672e060",
   "metadata": {},
   "outputs": [],
   "source": []
  },
  {
   "cell_type": "code",
   "execution_count": null,
   "id": "39436375",
   "metadata": {},
   "outputs": [],
   "source": []
  },
  {
   "cell_type": "code",
   "execution_count": null,
   "id": "ffa14ea5",
   "metadata": {},
   "outputs": [],
   "source": []
  },
  {
   "cell_type": "code",
   "execution_count": null,
   "id": "3b883a04",
   "metadata": {},
   "outputs": [],
   "source": []
  },
  {
   "cell_type": "code",
   "execution_count": 303,
   "id": "173023a3",
   "metadata": {},
   "outputs": [],
   "source": []
  },
  {
   "cell_type": "code",
   "execution_count": 282,
   "id": "49d7bc96",
   "metadata": {},
   "outputs": [],
   "source": []
  },
  {
   "cell_type": "code",
   "execution_count": 304,
   "id": "1e5e427f",
   "metadata": {},
   "outputs": [],
   "source": []
  },
  {
   "cell_type": "code",
   "execution_count": 288,
   "id": "13a994b3",
   "metadata": {},
   "outputs": [],
   "source": [
    "soup_sel = BeautifulSoup(driver.page_source, 'html5lib')"
   ]
  },
  {
   "cell_type": "code",
   "execution_count": 356,
   "id": "2b537e38",
   "metadata": {},
   "outputs": [],
   "source": [
    "#total number of photos\n",
    "num_photos = len(soup_sel.find_all('img', attrs={'data-bind' : \"attr: { src: images.small.url }\"}))"
   ]
  },
  {
   "cell_type": "code",
   "execution_count": 302,
   "id": "685d3618",
   "metadata": {},
   "outputs": [],
   "source": [
    "first_image_to_click = driver.find_element_by_xpath('/html/body/div[1]/div[2]/div[3]/div[2]/div/div[4]/div[2]/a[1]')\n",
    "first_image_to_click.click()"
   ]
  },
  {
   "cell_type": "code",
   "execution_count": 306,
   "id": "46c96334",
   "metadata": {},
   "outputs": [],
   "source": [
    "soup_main_page = BeautifulSoup(driver.page_source, 'html5lib')"
   ]
  },
  {
   "cell_type": "code",
   "execution_count": 307,
   "id": "1230e081",
   "metadata": {},
   "outputs": [],
   "source": []
  },
  {
   "cell_type": "code",
   "execution_count": 338,
   "id": "d56d2d04",
   "metadata": {},
   "outputs": [
    {
     "ename": "StaleElementReferenceException",
     "evalue": "Message: stale element reference: element is not attached to the page document\n  (Session info: chrome=94.0.4606.61)\n",
     "output_type": "error",
     "traceback": [
      "\u001b[0;31m---------------------------------------------------------------------------\u001b[0m",
      "\u001b[0;31mStaleElementReferenceException\u001b[0m            Traceback (most recent call last)",
      "\u001b[0;32m<ipython-input-338-fed6eda00859>\u001b[0m in \u001b[0;36m<module>\u001b[0;34m\u001b[0m\n\u001b[0;32m----> 1\u001b[0;31m \u001b[0mshow_more_button\u001b[0m\u001b[0;34m.\u001b[0m\u001b[0mclick\u001b[0m\u001b[0;34m(\u001b[0m\u001b[0;34m)\u001b[0m\u001b[0;34m\u001b[0m\u001b[0;34m\u001b[0m\u001b[0m\n\u001b[0m",
      "\u001b[0;32m~/opt/anaconda3/lib/python3.8/site-packages/selenium/webdriver/remote/webelement.py\u001b[0m in \u001b[0;36mclick\u001b[0;34m(self)\u001b[0m\n\u001b[1;32m     78\u001b[0m     \u001b[0;32mdef\u001b[0m \u001b[0mclick\u001b[0m\u001b[0;34m(\u001b[0m\u001b[0mself\u001b[0m\u001b[0;34m)\u001b[0m\u001b[0;34m:\u001b[0m\u001b[0;34m\u001b[0m\u001b[0;34m\u001b[0m\u001b[0m\n\u001b[1;32m     79\u001b[0m         \u001b[0;34m\"\"\"Clicks the element.\"\"\"\u001b[0m\u001b[0;34m\u001b[0m\u001b[0;34m\u001b[0m\u001b[0m\n\u001b[0;32m---> 80\u001b[0;31m         \u001b[0mself\u001b[0m\u001b[0;34m.\u001b[0m\u001b[0m_execute\u001b[0m\u001b[0;34m(\u001b[0m\u001b[0mCommand\u001b[0m\u001b[0;34m.\u001b[0m\u001b[0mCLICK_ELEMENT\u001b[0m\u001b[0;34m)\u001b[0m\u001b[0;34m\u001b[0m\u001b[0;34m\u001b[0m\u001b[0m\n\u001b[0m\u001b[1;32m     81\u001b[0m \u001b[0;34m\u001b[0m\u001b[0m\n\u001b[1;32m     82\u001b[0m     \u001b[0;32mdef\u001b[0m \u001b[0msubmit\u001b[0m\u001b[0;34m(\u001b[0m\u001b[0mself\u001b[0m\u001b[0;34m)\u001b[0m\u001b[0;34m:\u001b[0m\u001b[0;34m\u001b[0m\u001b[0;34m\u001b[0m\u001b[0m\n",
      "\u001b[0;32m~/opt/anaconda3/lib/python3.8/site-packages/selenium/webdriver/remote/webelement.py\u001b[0m in \u001b[0;36m_execute\u001b[0;34m(self, command, params)\u001b[0m\n\u001b[1;32m    631\u001b[0m             \u001b[0mparams\u001b[0m \u001b[0;34m=\u001b[0m \u001b[0;34m{\u001b[0m\u001b[0;34m}\u001b[0m\u001b[0;34m\u001b[0m\u001b[0;34m\u001b[0m\u001b[0m\n\u001b[1;32m    632\u001b[0m         \u001b[0mparams\u001b[0m\u001b[0;34m[\u001b[0m\u001b[0;34m'id'\u001b[0m\u001b[0;34m]\u001b[0m \u001b[0;34m=\u001b[0m \u001b[0mself\u001b[0m\u001b[0;34m.\u001b[0m\u001b[0m_id\u001b[0m\u001b[0;34m\u001b[0m\u001b[0;34m\u001b[0m\u001b[0m\n\u001b[0;32m--> 633\u001b[0;31m         \u001b[0;32mreturn\u001b[0m \u001b[0mself\u001b[0m\u001b[0;34m.\u001b[0m\u001b[0m_parent\u001b[0m\u001b[0;34m.\u001b[0m\u001b[0mexecute\u001b[0m\u001b[0;34m(\u001b[0m\u001b[0mcommand\u001b[0m\u001b[0;34m,\u001b[0m \u001b[0mparams\u001b[0m\u001b[0;34m)\u001b[0m\u001b[0;34m\u001b[0m\u001b[0;34m\u001b[0m\u001b[0m\n\u001b[0m\u001b[1;32m    634\u001b[0m \u001b[0;34m\u001b[0m\u001b[0m\n\u001b[1;32m    635\u001b[0m     \u001b[0;32mdef\u001b[0m \u001b[0mfind_element\u001b[0m\u001b[0;34m(\u001b[0m\u001b[0mself\u001b[0m\u001b[0;34m,\u001b[0m \u001b[0mby\u001b[0m\u001b[0;34m=\u001b[0m\u001b[0mBy\u001b[0m\u001b[0;34m.\u001b[0m\u001b[0mID\u001b[0m\u001b[0;34m,\u001b[0m \u001b[0mvalue\u001b[0m\u001b[0;34m=\u001b[0m\u001b[0;32mNone\u001b[0m\u001b[0;34m)\u001b[0m\u001b[0;34m:\u001b[0m\u001b[0;34m\u001b[0m\u001b[0;34m\u001b[0m\u001b[0m\n",
      "\u001b[0;32m~/opt/anaconda3/lib/python3.8/site-packages/selenium/webdriver/remote/webdriver.py\u001b[0m in \u001b[0;36mexecute\u001b[0;34m(self, driver_command, params)\u001b[0m\n\u001b[1;32m    319\u001b[0m         \u001b[0mresponse\u001b[0m \u001b[0;34m=\u001b[0m \u001b[0mself\u001b[0m\u001b[0;34m.\u001b[0m\u001b[0mcommand_executor\u001b[0m\u001b[0;34m.\u001b[0m\u001b[0mexecute\u001b[0m\u001b[0;34m(\u001b[0m\u001b[0mdriver_command\u001b[0m\u001b[0;34m,\u001b[0m \u001b[0mparams\u001b[0m\u001b[0;34m)\u001b[0m\u001b[0;34m\u001b[0m\u001b[0;34m\u001b[0m\u001b[0m\n\u001b[1;32m    320\u001b[0m         \u001b[0;32mif\u001b[0m \u001b[0mresponse\u001b[0m\u001b[0;34m:\u001b[0m\u001b[0;34m\u001b[0m\u001b[0;34m\u001b[0m\u001b[0m\n\u001b[0;32m--> 321\u001b[0;31m             \u001b[0mself\u001b[0m\u001b[0;34m.\u001b[0m\u001b[0merror_handler\u001b[0m\u001b[0;34m.\u001b[0m\u001b[0mcheck_response\u001b[0m\u001b[0;34m(\u001b[0m\u001b[0mresponse\u001b[0m\u001b[0;34m)\u001b[0m\u001b[0;34m\u001b[0m\u001b[0;34m\u001b[0m\u001b[0m\n\u001b[0m\u001b[1;32m    322\u001b[0m             response['value'] = self._unwrap_value(\n\u001b[1;32m    323\u001b[0m                 response.get('value', None))\n",
      "\u001b[0;32m~/opt/anaconda3/lib/python3.8/site-packages/selenium/webdriver/remote/errorhandler.py\u001b[0m in \u001b[0;36mcheck_response\u001b[0;34m(self, response)\u001b[0m\n\u001b[1;32m    240\u001b[0m                 \u001b[0malert_text\u001b[0m \u001b[0;34m=\u001b[0m \u001b[0mvalue\u001b[0m\u001b[0;34m[\u001b[0m\u001b[0;34m'alert'\u001b[0m\u001b[0;34m]\u001b[0m\u001b[0;34m.\u001b[0m\u001b[0mget\u001b[0m\u001b[0;34m(\u001b[0m\u001b[0;34m'text'\u001b[0m\u001b[0;34m)\u001b[0m\u001b[0;34m\u001b[0m\u001b[0;34m\u001b[0m\u001b[0m\n\u001b[1;32m    241\u001b[0m             \u001b[0;32mraise\u001b[0m \u001b[0mexception_class\u001b[0m\u001b[0;34m(\u001b[0m\u001b[0mmessage\u001b[0m\u001b[0;34m,\u001b[0m \u001b[0mscreen\u001b[0m\u001b[0;34m,\u001b[0m \u001b[0mstacktrace\u001b[0m\u001b[0;34m,\u001b[0m \u001b[0malert_text\u001b[0m\u001b[0;34m)\u001b[0m\u001b[0;34m\u001b[0m\u001b[0;34m\u001b[0m\u001b[0m\n\u001b[0;32m--> 242\u001b[0;31m         \u001b[0;32mraise\u001b[0m \u001b[0mexception_class\u001b[0m\u001b[0;34m(\u001b[0m\u001b[0mmessage\u001b[0m\u001b[0;34m,\u001b[0m \u001b[0mscreen\u001b[0m\u001b[0;34m,\u001b[0m \u001b[0mstacktrace\u001b[0m\u001b[0;34m)\u001b[0m\u001b[0;34m\u001b[0m\u001b[0;34m\u001b[0m\u001b[0m\n\u001b[0m\u001b[1;32m    243\u001b[0m \u001b[0;34m\u001b[0m\u001b[0m\n\u001b[1;32m    244\u001b[0m     \u001b[0;32mdef\u001b[0m \u001b[0m_value_or_default\u001b[0m\u001b[0;34m(\u001b[0m\u001b[0mself\u001b[0m\u001b[0;34m,\u001b[0m \u001b[0mobj\u001b[0m\u001b[0;34m,\u001b[0m \u001b[0mkey\u001b[0m\u001b[0;34m,\u001b[0m \u001b[0mdefault\u001b[0m\u001b[0;34m)\u001b[0m\u001b[0;34m:\u001b[0m\u001b[0;34m\u001b[0m\u001b[0;34m\u001b[0m\u001b[0m\n",
      "\u001b[0;31mStaleElementReferenceException\u001b[0m: Message: stale element reference: element is not attached to the page document\n  (Session info: chrome=94.0.4606.61)\n"
     ]
    }
   ],
   "source": []
  },
  {
   "cell_type": "code",
   "execution_count": 325,
   "id": "8a9bc81f",
   "metadata": {},
   "outputs": [
    {
     "data": {
      "text/plain": [
       "32"
      ]
     },
     "execution_count": 325,
     "metadata": {},
     "output_type": "execute_result"
    }
   ],
   "source": [
    "#with original page load, without loading additional auctions\n",
    "len(soup_main_page.find_all('img', attrs={'data-bind' : \"attr: { src: images.small.url, height: images.small.height, width: images.small.width, alt: title }\"}))"
   ]
  },
  {
   "cell_type": "code",
   "execution_count": 326,
   "id": "f9803e41",
   "metadata": {},
   "outputs": [],
   "source": [
    "#re-assigned soup_main_page after clicking on \"show more\" until all items showing\n",
    "soup_main_page = BeautifulSoup(driver.page_source, 'html5lib')"
   ]
  },
  {
   "cell_type": "code",
   "execution_count": 327,
   "id": "78a905a2",
   "metadata": {},
   "outputs": [
    {
     "data": {
      "text/plain": [
       "537"
      ]
     },
     "execution_count": 327,
     "metadata": {},
     "output_type": "execute_result"
    }
   ],
   "source": [
    "#all the preview images for links to auctions on the e46 m3 main page\n",
    "len(soup_main_page.find_all('img', attrs={'data-bind' : \"attr: { src: images.small.url, height: images.small.height, width: images.small.width, alt: title }\"}))"
   ]
  },
  {
   "cell_type": "code",
   "execution_count": 328,
   "id": "57cbb6d9",
   "metadata": {},
   "outputs": [
    {
     "data": {
      "text/plain": [
       "537"
      ]
     },
     "execution_count": 328,
     "metadata": {},
     "output_type": "execute_result"
    }
   ],
   "source": [
    "#all of the links to e46 m3 auctions on the e46 m3 main page\n",
    "len(soup_main_page.find_all('a', attrs={'data-bind' : \"attr: { href: url }\"}))"
   ]
  },
  {
   "cell_type": "code",
   "execution_count": 331,
   "id": "2e111483",
   "metadata": {},
   "outputs": [],
   "source": [
    "url_anchor_list = soup_main_page.find_all('a', attrs={'data-bind' : \"attr: { href: url }\"})"
   ]
  },
  {
   "cell_type": "code",
   "execution_count": 335,
   "id": "c48df743",
   "metadata": {},
   "outputs": [
    {
     "data": {
      "text/plain": [
       "'https://bringatrailer.com/listing/2003-bmw-m3-coupe-144/'"
      ]
     },
     "execution_count": 335,
     "metadata": {},
     "output_type": "execute_result"
    }
   ],
   "source": [
    "url_anchor_list[0]['href']"
   ]
  },
  {
   "cell_type": "code",
   "execution_count": 336,
   "id": "6e08a6ec",
   "metadata": {},
   "outputs": [
    {
     "data": {
      "text/plain": [
       "['https://bringatrailer.com/listing/2003-bmw-m3-coupe-144/',\n",
       " 'https://bringatrailer.com/listing/2004-bmw-m3-coupe-100/',\n",
       " 'https://bringatrailer.com/listing/2006-bmw-m3-convertible-50/',\n",
       " 'https://bringatrailer.com/listing/2003-bmw-m3-convertible-65/',\n",
       " 'https://bringatrailer.com/listing/2005-bmw-m3-72/',\n",
       " 'https://bringatrailer.com/listing/2002-bmw-m3-190/',\n",
       " 'https://bringatrailer.com/listing/2006-bmw-m3-coupe-65/',\n",
       " 'https://bringatrailer.com/listing/2003-bmw-m3-coupe-141/',\n",
       " 'https://bringatrailer.com/listing/2001-bmw-m3-111/',\n",
       " 'https://bringatrailer.com/listing/2005-bmw-m3-67/',\n",
       " 'https://bringatrailer.com/listing/2004-bmw-m3-convertible-73/',\n",
       " 'https://bringatrailer.com/listing/2002-bmw-m3-188/',\n",
       " 'https://bringatrailer.com/listing/2002-bmw-m3-convertible-66/',\n",
       " 'https://bringatrailer.com/listing/2002-bmw-m3-196/',\n",
       " 'https://bringatrailer.com/listing/2002-bmw-m3-convertible-62/',\n",
       " 'https://bringatrailer.com/listing/2002-bmw-m3-convertible-63/',\n",
       " 'https://bringatrailer.com/listing/2002-bmw-m3-186/',\n",
       " 'https://bringatrailer.com/listing/2004-bmw-m3-75/',\n",
       " 'https://bringatrailer.com/listing/2004-bmw-m3-convertible-61-2/',\n",
       " 'https://bringatrailer.com/listing/2006-bmw-m3-convertible-45/',\n",
       " 'https://bringatrailer.com/listing/2006-bmw-m3-convertible-47/',\n",
       " 'https://bringatrailer.com/listing/2001-bmw-m3-108/',\n",
       " 'https://bringatrailer.com/listing/2003-bmw-m3-coupe-138/',\n",
       " 'https://bringatrailer.com/listing/2002-bmw-m3-convertible-57/',\n",
       " 'https://bringatrailer.com/listing/2003-bmw-m3-coupe-134/',\n",
       " 'https://bringatrailer.com/listing/2005-bmw-m3-convertible-41/',\n",
       " 'https://bringatrailer.com/listing/2005-bmw-m3-coupe-66/',\n",
       " 'https://bringatrailer.com/listing/2005-bmw-m3-66/',\n",
       " 'https://bringatrailer.com/listing/2005-bmw-m3-coupe-65/',\n",
       " 'https://bringatrailer.com/listing/2002-bmw-m3-convertible-55/',\n",
       " 'https://bringatrailer.com/listing/2003-bmw-m3-coupe-132/',\n",
       " 'https://bringatrailer.com/listing/2002-bmw-m3-178/',\n",
       " 'https://bringatrailer.com/listing/2004-bmw-m3-62/',\n",
       " 'https://bringatrailer.com/listing/2003-bmw-m3-convertible-55/',\n",
       " 'https://bringatrailer.com/listing/2002-bmw-m3-179/',\n",
       " 'https://bringatrailer.com/listing/2002-bmw-m3-180/',\n",
       " 'https://bringatrailer.com/listing/2003-bmw-m3-convertible-53/',\n",
       " 'https://bringatrailer.com/listing/2003-bmw-m3-coupe-125/',\n",
       " 'https://bringatrailer.com/listing/2004-bmw-m3-convertible-68/',\n",
       " 'https://bringatrailer.com/listing/2003-bmw-m3-coupe-126/',\n",
       " 'https://bringatrailer.com/listing/2001-bmw-m3-107/',\n",
       " 'https://bringatrailer.com/listing/2005-bmw-m3-coupe-64/',\n",
       " 'https://bringatrailer.com/listing/2005-bmw-m3-65/',\n",
       " 'https://bringatrailer.com/listing/2004-bmw-m3-convertible-65/',\n",
       " 'https://bringatrailer.com/listing/2006-bmw-m3-csl-2/',\n",
       " 'https://bringatrailer.com/listing/2004-bmw-m3-convertible-67/',\n",
       " 'https://bringatrailer.com/listing/2001-bmw-m3-105/',\n",
       " 'https://bringatrailer.com/listing/2004-bmw-m3-coupe-70/',\n",
       " 'https://bringatrailer.com/listing/2006-bmw-m3-convertible-44/',\n",
       " 'https://bringatrailer.com/listing/2001-bmw-m3-106/',\n",
       " 'https://bringatrailer.com/listing/2006-bmw-m3-coupe-62/',\n",
       " 'https://bringatrailer.com/listing/2004-bmw-m3-72/',\n",
       " 'https://bringatrailer.com/listing/2006-bmw-m3-coupe-63/',\n",
       " 'https://bringatrailer.com/listing/2004-bmw-m3-74/',\n",
       " 'https://bringatrailer.com/listing/2005-bmw-m3-64/',\n",
       " 'https://bringatrailer.com/listing/2004-bmw-m3-convertible-61/',\n",
       " 'https://bringatrailer.com/listing/2001-bmw-m3-104/',\n",
       " 'https://bringatrailer.com/listing/2004-bmw-m3-73/',\n",
       " 'https://bringatrailer.com/listing/2001-bmw-m3-99/',\n",
       " 'https://bringatrailer.com/listing/2003-bmw-m3-convertible-52/',\n",
       " 'https://bringatrailer.com/listing/2002-bmw-m3-175/',\n",
       " 'https://bringatrailer.com/listing/2006-bmw-m3-52/',\n",
       " 'https://bringatrailer.com/listing/2004-bmw-m3-71/',\n",
       " 'https://bringatrailer.com/listing/2004-bmw-m3-coupe-92/',\n",
       " 'https://bringatrailer.com/listing/2005-bmw-m3-convertible-36/',\n",
       " 'https://bringatrailer.com/listing/2002-bmw-m3-convertible-53/',\n",
       " 'https://bringatrailer.com/listing/2002-bmw-m3-convertible-52/',\n",
       " 'https://bringatrailer.com/listing/2003-bmw-m3-coupe-119/',\n",
       " 'https://bringatrailer.com/listing/2002-bmw-m3-convertible-51/',\n",
       " 'https://bringatrailer.com/listing/2002-bmw-m3-171/',\n",
       " 'https://bringatrailer.com/listing/2003-bmw-m3-convertible-49/',\n",
       " 'https://bringatrailer.com/listing/2001-bmw-m3-103/',\n",
       " 'https://bringatrailer.com/listing/2002-bmw-m3-173/',\n",
       " 'https://bringatrailer.com/listing/2004-bmw-m3-convertible-64/',\n",
       " 'https://bringatrailer.com/listing/2003-bmw-m3-coupe-121/',\n",
       " 'https://bringatrailer.com/listing/2002-bmw-m3-convertible-50/',\n",
       " 'https://bringatrailer.com/listing/2003-bmw-m3-coupe-118/',\n",
       " 'https://bringatrailer.com/listing/2003-bmw-m3-convertible-50/',\n",
       " 'https://bringatrailer.com/listing/2003-bmw-m3-coupe-110/',\n",
       " 'https://bringatrailer.com/listing/2001-bmw-m3-101/',\n",
       " 'https://bringatrailer.com/listing/2004-bmw-m3-convertible-62/',\n",
       " 'https://bringatrailer.com/listing/2001-bmw-m3-100/',\n",
       " 'https://bringatrailer.com/listing/2004-bmw-m3-convertible-59/',\n",
       " 'https://bringatrailer.com/listing/2004-bmw-m3-coupe-89/',\n",
       " 'https://bringatrailer.com/listing/2001-bmw-m3-93/',\n",
       " 'https://bringatrailer.com/listing/2002-bmw-m3-convertible-48/',\n",
       " 'https://bringatrailer.com/listing/2003-bmw-m3-coupe-113/',\n",
       " 'https://bringatrailer.com/listing/2005-bmw-m3-coupe-62/',\n",
       " 'https://bringatrailer.com/listing/2004-bmw-m3-convertible-60/',\n",
       " 'https://bringatrailer.com/listing/2005-bmw-m3-50/',\n",
       " 'https://bringatrailer.com/listing/2003-bmw-m3-coupe-111/',\n",
       " 'https://bringatrailer.com/listing/2003-bmw-m3-coupe-112/',\n",
       " 'https://bringatrailer.com/listing/2004-bmw-m3-convertible-56/',\n",
       " 'https://bringatrailer.com/listing/2002-bmw-m3-convertible-46/',\n",
       " 'https://bringatrailer.com/listing/2005-bmw-m3-60/',\n",
       " 'https://bringatrailer.com/listing/2005-bmw-m3-61/',\n",
       " 'https://bringatrailer.com/listing/2005-bmw-m3-62/',\n",
       " 'https://bringatrailer.com/listing/2002-bmw-m3-convertible-45/',\n",
       " 'https://bringatrailer.com/listing/2003-bmw-m3-coupe-109/',\n",
       " 'https://bringatrailer.com/listing/2003-bmw-m3-coupe-107/',\n",
       " 'https://bringatrailer.com/listing/2006-bmw-m3-convertible-38/',\n",
       " 'https://bringatrailer.com/listing/2004-bmw-m3-convertible-54/',\n",
       " 'https://bringatrailer.com/listing/2005-bmw-m3-coupe-61/',\n",
       " 'https://bringatrailer.com/listing/2004-bmw-m3-coupe-88/',\n",
       " 'https://bringatrailer.com/listing/2003-bmw-m3-convertible-44/',\n",
       " 'https://bringatrailer.com/listing/2001-bmw-m3-96/',\n",
       " 'https://bringatrailer.com/listing/2006-bmw-m3-convertible-41/',\n",
       " 'https://bringatrailer.com/listing/2001-bmw-m3-95/',\n",
       " 'https://bringatrailer.com/listing/2004-bmw-m3-convertible-55/',\n",
       " 'https://bringatrailer.com/listing/2002-bmw-m3-168/',\n",
       " 'https://bringatrailer.com/listing/2006-bmw-m3-49/',\n",
       " 'https://bringatrailer.com/listing/2003-bmw-m3-coupe-108/',\n",
       " 'https://bringatrailer.com/listing/2005-bmw-m3-coupe-58/',\n",
       " 'https://bringatrailer.com/listing/2005-bmw-m3-59/',\n",
       " 'https://bringatrailer.com/listing/2002-bmw-m3-165/',\n",
       " 'https://bringatrailer.com/listing/2004-bmw-m3-coupe-84/',\n",
       " 'https://bringatrailer.com/listing/2006-bmw-m3-coupe-58/',\n",
       " 'https://bringatrailer.com/listing/2006-bmw-m3-convertible-6-speed/',\n",
       " 'https://bringatrailer.com/listing/2005-bmw-m3-57/',\n",
       " 'https://bringatrailer.com/listing/2006-bmw-m3-coupe-57/',\n",
       " 'https://bringatrailer.com/listing/2001-bmw-m3-94/',\n",
       " 'https://bringatrailer.com/listing/2002-bmw-m3-163/',\n",
       " 'https://bringatrailer.com/listing/2003-bmw-m3-coupe-104/',\n",
       " 'https://bringatrailer.com/listing/2003-bmw-m3-coupe-103/',\n",
       " 'https://bringatrailer.com/listing/2003-bmw-m3-convertible-41/',\n",
       " 'https://bringatrailer.com/listing/2006-bmw-m3-47/',\n",
       " 'https://bringatrailer.com/listing/2006-bmw-m3-coupe-54/',\n",
       " 'https://bringatrailer.com/listing/2004-bmw-m3-coupe-80/',\n",
       " 'https://bringatrailer.com/listing/2002-bmw-m3-157/',\n",
       " 'https://bringatrailer.com/listing/2005-bmw-m3-coupe-56/',\n",
       " 'https://bringatrailer.com/listing/2005-bmw-m3-56/',\n",
       " 'https://bringatrailer.com/listing/2006-bmw-m3-coupe-55/',\n",
       " 'https://bringatrailer.com/listing/2006-bmw-m3-coupe-53/',\n",
       " 'https://bringatrailer.com/listing/2004-bmw-m3-65/',\n",
       " 'https://bringatrailer.com/listing/2005-bmw-m3-coupe-59/',\n",
       " 'https://bringatrailer.com/listing/2005-bmw-m3-convertible-32-2/',\n",
       " 'https://bringatrailer.com/listing/2004-bmw-m3-67/',\n",
       " 'https://bringatrailer.com/listing/2004-bmw-m3-convertible-50/',\n",
       " 'https://bringatrailer.com/listing/2005-bmw-m3-coupe-57/',\n",
       " 'https://bringatrailer.com/listing/2002-bmw-m3-158/',\n",
       " 'https://bringatrailer.com/listing/2001-bmw-m3-88/',\n",
       " 'https://bringatrailer.com/listing/2006-bmw-m3-coupe-51/',\n",
       " 'https://bringatrailer.com/listing/2002-bmw-m3-155/',\n",
       " 'https://bringatrailer.com/listing/2006-bmw-m3-46/',\n",
       " 'https://bringatrailer.com/listing/2002-bmw-m3-convertible-41/',\n",
       " 'https://bringatrailer.com/listing/2001-bmw-m3-85/',\n",
       " 'https://bringatrailer.com/listing/2003-bmw-m3-coupe-98/',\n",
       " 'https://bringatrailer.com/listing/2001-bmw-m3-87/',\n",
       " 'https://bringatrailer.com/listing/2001-bmw-m3-92/',\n",
       " 'https://bringatrailer.com/listing/2004-bmw-m3-coupe-76/',\n",
       " 'https://bringatrailer.com/listing/2002-bmw-m3-125/',\n",
       " 'https://bringatrailer.com/listing/2004-bmw-m3-convertible-48/',\n",
       " 'https://bringatrailer.com/listing/2002-bmw-m3-153/',\n",
       " 'https://bringatrailer.com/listing/2002-bmw-m3-154/',\n",
       " 'https://bringatrailer.com/listing/2003-bmw-m3-coupe-97/',\n",
       " 'https://bringatrailer.com/listing/2001-bmw-m3-86/',\n",
       " 'https://bringatrailer.com/listing/2002-bmw-m3-136/',\n",
       " 'https://bringatrailer.com/listing/2005-bmw-m3-convertible-32/',\n",
       " 'https://bringatrailer.com/listing/2002-bmw-m3-convertible-38/',\n",
       " 'https://bringatrailer.com/listing/2005-bmw-m3-coupe-54/',\n",
       " 'https://bringatrailer.com/listing/2005-bmw-m3-convertible-28/',\n",
       " 'https://bringatrailer.com/listing/2001-bmw-m3-70/',\n",
       " 'https://bringatrailer.com/listing/2006-bmw-m3-convertible-33/',\n",
       " 'https://bringatrailer.com/listing/2004-bmw-m3-convertible-41/',\n",
       " 'https://bringatrailer.com/listing/2006-bmw-m3-44/',\n",
       " 'https://bringatrailer.com/listing/2002-bmw-m3-148/',\n",
       " 'https://bringatrailer.com/listing/2006-bmw-m3-43/',\n",
       " 'https://bringatrailer.com/listing/2003-bmw-m3-convertible-35/',\n",
       " 'https://bringatrailer.com/listing/2001-bmw-m3-76/',\n",
       " 'https://bringatrailer.com/listing/2005-bmw-m3-convertible-29/',\n",
       " 'https://bringatrailer.com/listing/2001-bmw-m3-83/',\n",
       " 'https://bringatrailer.com/listing/2006-bmw-m3-coupe-50/',\n",
       " 'https://bringatrailer.com/listing/2005-bmw-m3-coupe-53/',\n",
       " 'https://bringatrailer.com/listing/2005-bmw-m3-coupe-55/',\n",
       " 'https://bringatrailer.com/listing/2002-bmw-m3-145/',\n",
       " 'https://bringatrailer.com/listing/2006-bmw-m3-convertible-34/',\n",
       " 'https://bringatrailer.com/listing/2003-bmw-m3-coupe-95/',\n",
       " 'https://bringatrailer.com/listing/2002-bmw-m3-144/',\n",
       " 'https://bringatrailer.com/listing/2006-bmw-m3-40/',\n",
       " 'https://bringatrailer.com/listing/2003-bmw-m3-convertible-31/',\n",
       " 'https://bringatrailer.com/listing/2006-bmw-m3-coupe-42/',\n",
       " 'https://bringatrailer.com/listing/2004-bmw-m3-coupe-71/',\n",
       " 'https://bringatrailer.com/listing/2002-bmw-m3-142/',\n",
       " 'https://bringatrailer.com/listing/2001-bmw-m3-75/',\n",
       " 'https://bringatrailer.com/listing/2004-bmw-m3-convertible-38/',\n",
       " 'https://bringatrailer.com/listing/2002-bmw-m3-141/',\n",
       " 'https://bringatrailer.com/listing/2003-bmw-m3-convertible-32/',\n",
       " 'https://bringatrailer.com/listing/2002-bmw-m3-140/',\n",
       " 'https://bringatrailer.com/listing/2001-bmw-m3-72-2/',\n",
       " 'https://bringatrailer.com/listing/2002-bmw-m3-convertible-34/',\n",
       " 'https://bringatrailer.com/listing/2001-bmw-m3-74/',\n",
       " 'https://bringatrailer.com/listing/2002-bmw-m3-118/',\n",
       " 'https://bringatrailer.com/listing/2004-bmw-m3-coupe-72/',\n",
       " 'https://bringatrailer.com/listing/2006-bmw-m3-42/',\n",
       " 'https://bringatrailer.com/listing/2006-bmw-m3-coupe-40-2/',\n",
       " 'https://bringatrailer.com/listing/2003-bmw-m3-coupe-84/',\n",
       " 'https://bringatrailer.com/listing/2002-bmw-m3-convertible-33/',\n",
       " 'https://bringatrailer.com/listing/2003-bmw-m3-coupe-88/',\n",
       " 'https://bringatrailer.com/listing/2001-bmw-m3-72/',\n",
       " 'https://bringatrailer.com/listing/2003-bmw-m3-convertible-29/',\n",
       " 'https://bringatrailer.com/listing/2001-bmw-m3-71/',\n",
       " 'https://bringatrailer.com/listing/2003-bmw-m3-coupe-87/',\n",
       " 'https://bringatrailer.com/listing/2005-bmw-m3-coupe-51/',\n",
       " 'https://bringatrailer.com/listing/2001-bmw-m3-69/',\n",
       " 'https://bringatrailer.com/listing/2004-bmw-m3-coupe-69/',\n",
       " 'https://bringatrailer.com/listing/2001-bmw-m3-60-2/',\n",
       " 'https://bringatrailer.com/listing/2006-bmw-m3-coupe-41/',\n",
       " 'https://bringatrailer.com/listing/2003-bmw-m3-coupe-79/',\n",
       " 'https://bringatrailer.com/listing/2006-bmw-m3-39/',\n",
       " 'https://bringatrailer.com/listing/2002-bmw-m3-126/',\n",
       " 'https://bringatrailer.com/listing/2002-bmw-m3-133/',\n",
       " 'https://bringatrailer.com/listing/2006-bmw-m3-coupe-40/',\n",
       " 'https://bringatrailer.com/listing/2002-bmw-m3-131/',\n",
       " 'https://bringatrailer.com/listing/2004-bmw-m3-coupe-68/',\n",
       " 'https://bringatrailer.com/listing/2005-bmw-m3-coupe-49/',\n",
       " 'https://bringatrailer.com/listing/2005-bmw-m3-coupe-48/',\n",
       " 'https://bringatrailer.com/listing/2003-bmw-m3-coupe-85/',\n",
       " 'https://bringatrailer.com/listing/2002-bmw-m3-127/',\n",
       " 'https://bringatrailer.com/listing/2005-bmw-m3-convertible-26/',\n",
       " 'https://bringatrailer.com/listing/2006-bmw-m3-convertible-28/',\n",
       " 'https://bringatrailer.com/listing/2006-bmw-m3-coupe-39/',\n",
       " 'https://bringatrailer.com/listing/2003-bmw-m3-convertible-28/',\n",
       " 'https://bringatrailer.com/listing/2004-bmw-m3-coupe-66/',\n",
       " 'https://bringatrailer.com/listing/2003-bmw-m3-convertible-27/',\n",
       " 'https://bringatrailer.com/listing/2004-bmw-m3-coupe-65/',\n",
       " 'https://bringatrailer.com/listing/2003-bmw-m3-convertible-26/',\n",
       " 'https://bringatrailer.com/listing/2006-bmw-m3-coupe-38/',\n",
       " 'https://bringatrailer.com/listing/2004-bmw-m3-53/',\n",
       " 'https://bringatrailer.com/listing/2006-bmw-m3-convertible-29/',\n",
       " 'https://bringatrailer.com/listing/2004-bmw-m3-51/',\n",
       " 'https://bringatrailer.com/listing/2006-bmw-m3-37/',\n",
       " 'https://bringatrailer.com/listing/2002-bmw-m3-119/',\n",
       " 'https://bringatrailer.com/listing/2001-bmw-m3-65/',\n",
       " 'https://bringatrailer.com/listing/2006-bmw-m3-coupe-33/',\n",
       " 'https://bringatrailer.com/listing/2006-bmw-m3-38/',\n",
       " 'https://bringatrailer.com/listing/2003-bmw-m3-convertible-25/',\n",
       " 'https://bringatrailer.com/listing/2005-bmw-m3-coupe-47/',\n",
       " 'https://bringatrailer.com/listing/2005-bmw-m3-zcp-competition/',\n",
       " 'https://bringatrailer.com/listing/2004-bmw-m3-coupe-64/',\n",
       " 'https://bringatrailer.com/listing/2004-bmw-m3-52/',\n",
       " 'https://bringatrailer.com/listing/2006-bmw-m3-36/',\n",
       " 'https://bringatrailer.com/listing/2002-bmw-m3-116/',\n",
       " 'https://bringatrailer.com/listing/2003-bmw-m3-coupe-83/',\n",
       " 'https://bringatrailer.com/listing/2004-bmw-m3-convertible-31/',\n",
       " 'https://bringatrailer.com/listing/2001-bmw-m3-61/',\n",
       " 'https://bringatrailer.com/listing/2005-bmw-m3-coupe-45/',\n",
       " 'https://bringatrailer.com/listing/2006-bmw-m3-35/',\n",
       " 'https://bringatrailer.com/listing/2006-bmw-m3-34/',\n",
       " 'https://bringatrailer.com/listing/2002-bmw-m3-convertible-32/',\n",
       " 'https://bringatrailer.com/listing/2003-bmw-m3-coupe-81/',\n",
       " 'https://bringatrailer.com/listing/2002-bmw-m3-61/',\n",
       " 'https://bringatrailer.com/listing/2001-bmw-m3-63/',\n",
       " 'https://bringatrailer.com/listing/2004-bmw-m3-50/',\n",
       " 'https://bringatrailer.com/listing/2002-bmw-m3-114/',\n",
       " 'https://bringatrailer.com/listing/2002-bmw-m3-115/',\n",
       " 'https://bringatrailer.com/listing/2003-bmw-m3-convertible-23/',\n",
       " 'https://bringatrailer.com/listing/2001-bmw-m3-60/',\n",
       " 'https://bringatrailer.com/listing/2002-bmw-m3-111/',\n",
       " 'https://bringatrailer.com/listing/2006-bmw-m3-33/',\n",
       " 'https://bringatrailer.com/listing/2005-bmw-m3-coupe-42/',\n",
       " 'https://bringatrailer.com/listing/2004-bmw-m3-coupe-58/',\n",
       " 'https://bringatrailer.com/listing/2005-bmw-m3-coupe-41/',\n",
       " 'https://bringatrailer.com/listing/2006-bmw-m3-convertible-24/',\n",
       " 'https://bringatrailer.com/listing/2004-bmw-m3-coupe-57/',\n",
       " 'https://bringatrailer.com/listing/2005-bmw-m3-43/',\n",
       " 'https://bringatrailer.com/listing/2002-bmw-m3-112/',\n",
       " 'https://bringatrailer.com/listing/2006-bmw-m3-convertible-23/',\n",
       " 'https://bringatrailer.com/listing/2004-bmw-m3-coupe-56/',\n",
       " 'https://bringatrailer.com/listing/2005-bmw-m3-coupe-40/',\n",
       " 'https://bringatrailer.com/listing/2003-bmw-m3-coupe-77/',\n",
       " 'https://bringatrailer.com/listing/2005-bmw-m3-convertible-22/',\n",
       " 'https://bringatrailer.com/listing/2005-bmw-m3-coupe-39/',\n",
       " 'https://bringatrailer.com/listing/2004-bmw-m3-coupe-52/',\n",
       " 'https://bringatrailer.com/listing/2006-bmw-m3-coupe-35/',\n",
       " 'https://bringatrailer.com/listing/2004-bmw-m3-coupe-48/',\n",
       " 'https://bringatrailer.com/listing/2004-bmw-m3-coupe-49/',\n",
       " 'https://bringatrailer.com/listing/2004-bmw-m3-coupe-55/',\n",
       " 'https://bringatrailer.com/listing/2003-bmw-m3-coupe-75/',\n",
       " 'https://bringatrailer.com/listing/2005-bmw-m3-38/',\n",
       " 'https://bringatrailer.com/listing/2005-bmw-m3-40/',\n",
       " 'https://bringatrailer.com/listing/2002-bmw-m3-convertible-29/',\n",
       " 'https://bringatrailer.com/listing/2005-bmw-m3-41/',\n",
       " 'https://bringatrailer.com/listing/2004-bmw-m3-coupe-46/',\n",
       " 'https://bringatrailer.com/listing/2001-bmw-m3-56/',\n",
       " 'https://bringatrailer.com/listing/2001-bmw-m3-50/',\n",
       " 'https://bringatrailer.com/listing/2005-bmw-m3-coupe-38/',\n",
       " 'https://bringatrailer.com/listing/2002-bmw-m3-101/',\n",
       " 'https://bringatrailer.com/listing/2004-bmw-m3-44/',\n",
       " 'https://bringatrailer.com/listing/2004-bmw-m3-43/',\n",
       " 'https://bringatrailer.com/listing/2002-bmw-m3-convertible-26/',\n",
       " 'https://bringatrailer.com/listing/2001-bmw-m3-49/',\n",
       " 'https://bringatrailer.com/listing/2006-bmw-m3-coupe-32/',\n",
       " 'https://bringatrailer.com/listing/2002-bmw-m3-106/',\n",
       " 'https://bringatrailer.com/listing/2002-bmw-m3-80/',\n",
       " 'https://bringatrailer.com/listing/2004-bmw-m3-coupe-51/',\n",
       " 'https://bringatrailer.com/listing/2003-bmw-m3-coupe-72/',\n",
       " 'https://bringatrailer.com/listing/2005-bmw-m3-36/',\n",
       " 'https://bringatrailer.com/listing/2003-bmw-m3-coupe-71/',\n",
       " 'https://bringatrailer.com/listing/2006-bmw-m3-30/',\n",
       " 'https://bringatrailer.com/listing/2001-bmw-m3-48/',\n",
       " 'https://bringatrailer.com/listing/2003-bmw-m3-coupe-65/',\n",
       " 'https://bringatrailer.com/listing/2005-bmw-m3-coupe-34/',\n",
       " 'https://bringatrailer.com/listing/2006-bmw-m3-convertible-19/',\n",
       " 'https://bringatrailer.com/listing/2002-bmw-m3-103/',\n",
       " 'https://bringatrailer.com/listing/2004-bmw-m3-coupe-44/',\n",
       " 'https://bringatrailer.com/listing/2002-bmw-m3-94/',\n",
       " 'https://bringatrailer.com/listing/2006-bmw-m3-24/',\n",
       " 'https://bringatrailer.com/listing/2006-bmw-m3-25/',\n",
       " 'https://bringatrailer.com/listing/2004-bmw-m3-39/',\n",
       " 'https://bringatrailer.com/listing/2002-bmw-m3-convertible-25/',\n",
       " 'https://bringatrailer.com/listing/2002-bmw-m3-96/',\n",
       " 'https://bringatrailer.com/listing/2006-bmw-m3-coupe-30/',\n",
       " 'https://bringatrailer.com/listing/2004-bmw-m3-36/',\n",
       " 'https://bringatrailer.com/listing/2004-bmw-m3-37/',\n",
       " 'https://bringatrailer.com/listing/2004-bmw-m3-coupe-41/',\n",
       " 'https://bringatrailer.com/listing/2005-bmw-m3-zcp-6-speed/',\n",
       " 'https://bringatrailer.com/listing/2002-bmw-m3-91/',\n",
       " 'https://bringatrailer.com/listing/2004-bmw-m3-coupe-42/',\n",
       " 'https://bringatrailer.com/listing/2002-bmw-m3-95/',\n",
       " 'https://bringatrailer.com/listing/2002-bmw-m3-92/',\n",
       " 'https://bringatrailer.com/listing/2005-bmw-m3-convertible-13/',\n",
       " 'https://bringatrailer.com/listing/2001-bmw-m3-44/',\n",
       " 'https://bringatrailer.com/listing/2002-bmw-m3-convertible-22/',\n",
       " 'https://bringatrailer.com/listing/2003-bmw-m3-coupe-64/',\n",
       " 'https://bringatrailer.com/listing/2005-bmw-m3-coupe-28/',\n",
       " 'https://bringatrailer.com/listing/2001-bmw-m3-45/',\n",
       " 'https://bringatrailer.com/listing/2001-bmw-m3-30/',\n",
       " 'https://bringatrailer.com/listing/2003-bmw-m3-coupe-66/',\n",
       " 'https://bringatrailer.com/listing/2004-bmw-m3-34/',\n",
       " 'https://bringatrailer.com/listing/2005-bmw-m3-coupe-25/',\n",
       " 'https://bringatrailer.com/listing/2001-bmw-m3-42/',\n",
       " 'https://bringatrailer.com/listing/2003-bmw-m3-csl-3/',\n",
       " 'https://bringatrailer.com/listing/2001-bmw-m3-41/',\n",
       " 'https://bringatrailer.com/listing/2006-bmw-m3-coupe-28/',\n",
       " 'https://bringatrailer.com/listing/2002-bmw-m3-90/',\n",
       " 'https://bringatrailer.com/listing/2003-bmw-m3-coupe-63/',\n",
       " 'https://bringatrailer.com/listing/2005-bmw-m3-34/',\n",
       " 'https://bringatrailer.com/listing/2003-bmw-m3-coupe-62/',\n",
       " 'https://bringatrailer.com/listing/2004-bmw-m3-convertible-22/',\n",
       " 'https://bringatrailer.com/listing/2001-bmw-m3-40/',\n",
       " 'https://bringatrailer.com/listing/2005-bmw-m3-zcp/',\n",
       " 'https://bringatrailer.com/listing/2004-bmw-m3-coupe-39/',\n",
       " 'https://bringatrailer.com/listing/2002-bmw-m3-87/',\n",
       " 'https://bringatrailer.com/listing/2002-bmw-m3-83/',\n",
       " 'https://bringatrailer.com/listing/2002-bmw-m3-convertible-19/',\n",
       " 'https://bringatrailer.com/listing/2006-bmw-m3-coupe-26/',\n",
       " 'https://bringatrailer.com/listing/2004-bmw-m3-coupe-37/',\n",
       " 'https://bringatrailer.com/listing/2004-bmw-m3-convertible-21/',\n",
       " 'https://bringatrailer.com/listing/2003-bmw-m3-coupe-61/',\n",
       " 'https://bringatrailer.com/listing/2001-bmw-m3-37/',\n",
       " 'https://bringatrailer.com/listing/2005-bmw-m3-convertible-19/',\n",
       " 'https://bringatrailer.com/listing/2002-bmw-m3-84/',\n",
       " 'https://bringatrailer.com/listing/2002-bmw-m3-convertible-18/',\n",
       " 'https://bringatrailer.com/listing/2001-bmw-m3-36/',\n",
       " 'https://bringatrailer.com/listing/2001-bmw-m3-11/',\n",
       " 'https://bringatrailer.com/listing/2002-bmw-m3-81/',\n",
       " 'https://bringatrailer.com/listing/2003-bmw-m3-convertible-13/',\n",
       " 'https://bringatrailer.com/listing/2005-bmw-m3-convertible-18/',\n",
       " 'https://bringatrailer.com/listing/2005-bmw-m3-32/',\n",
       " 'https://bringatrailer.com/listing/2004-bmw-m3-coupe-35/',\n",
       " 'https://bringatrailer.com/listing/2002-bmw-m3-77/',\n",
       " 'https://bringatrailer.com/listing/2005-bmw-m3-31/',\n",
       " 'https://bringatrailer.com/listing/2005-bmw-m3-30/',\n",
       " 'https://bringatrailer.com/listing/2006-bmw-m3-coupe-22/',\n",
       " 'https://bringatrailer.com/listing/2003-bmw-m3-coupe-56/',\n",
       " 'https://bringatrailer.com/listing/2001-bmw-m3-31/',\n",
       " 'https://bringatrailer.com/listing/2006-bmw-m3-coupe-23/',\n",
       " 'https://bringatrailer.com/listing/2004-bmw-m3-convertible-19/',\n",
       " 'https://bringatrailer.com/listing/2004-bmw-m3-coupe-34/',\n",
       " 'https://bringatrailer.com/listing/2005-bmw-m3-convertible-16/',\n",
       " 'https://bringatrailer.com/listing/2001-bmw-m3-33/',\n",
       " 'https://bringatrailer.com/listing/2001-bmw-m3-32/',\n",
       " 'https://bringatrailer.com/listing/2004-bmw-m3-coupe-32/',\n",
       " 'https://bringatrailer.com/listing/2002-bmw-m3-72/',\n",
       " 'https://bringatrailer.com/listing/2003-bmw-m3-coupe-53/',\n",
       " 'https://bringatrailer.com/listing/2006-bmw-m3-20/',\n",
       " 'https://bringatrailer.com/listing/2002-bmw-m3-75/',\n",
       " 'https://bringatrailer.com/listing/2006-bmw-m3-coupe-20/',\n",
       " 'https://bringatrailer.com/listing/2003-bmw-m3-coupe-49/',\n",
       " 'https://bringatrailer.com/listing/2002-bmw-m3-73/',\n",
       " 'https://bringatrailer.com/listing/2004-bmw-m3-31/',\n",
       " 'https://bringatrailer.com/listing/2003-bmw-m3-coupe-51/',\n",
       " 'https://bringatrailer.com/listing/2005-bmw-m3-coupe-21/',\n",
       " 'https://bringatrailer.com/listing/2006-bmw-m3-coupe-19/',\n",
       " 'https://bringatrailer.com/listing/2002-bmw-m3-71/',\n",
       " 'https://bringatrailer.com/listing/2006-bmw-m3-coupe-17/',\n",
       " 'https://bringatrailer.com/listing/2002-bmw-m3-70/',\n",
       " 'https://bringatrailer.com/listing/2002-bmw-m3-69/',\n",
       " 'https://bringatrailer.com/listing/2003-bmw-m3-coupe-47/',\n",
       " 'https://bringatrailer.com/listing/2004-bmw-m3-convertible-16/',\n",
       " 'https://bringatrailer.com/listing/2003-bmw-m3-coupe-45/',\n",
       " 'https://bringatrailer.com/listing/2004-bmw-m3-30/',\n",
       " 'https://bringatrailer.com/listing/2004-bmw-m3-27/',\n",
       " 'https://bringatrailer.com/listing/2003-bmw-m3-convertible-10/',\n",
       " 'https://bringatrailer.com/listing/2005-bmw-m3-coupe-19/',\n",
       " 'https://bringatrailer.com/listing/2002-bmw-m3-67/',\n",
       " 'https://bringatrailer.com/listing/2004-bmw-m3-26/',\n",
       " 'https://bringatrailer.com/listing/2005-bmw-m3-convertible-14/',\n",
       " 'https://bringatrailer.com/listing/2004-bmw-m3-coupe-30/',\n",
       " 'https://bringatrailer.com/listing/2002-bmw-m3-66/',\n",
       " 'https://bringatrailer.com/listing/2004-bmw-m3-convertible-13/',\n",
       " 'https://bringatrailer.com/listing/2001-bmw-m3-23/',\n",
       " 'https://bringatrailer.com/listing/2002-bmw-e46-m3-convertible/',\n",
       " 'https://bringatrailer.com/listing/2002-bmw-m3-64/',\n",
       " 'https://bringatrailer.com/listing/2002-bmw-m3-65/',\n",
       " 'https://bringatrailer.com/listing/2005-bmw-m3-coupe-18/',\n",
       " 'https://bringatrailer.com/listing/2002-bmw-m3-63/',\n",
       " 'https://bringatrailer.com/listing/2006-bmw-m3-csl/',\n",
       " 'https://bringatrailer.com/listing/2005-bmw-m3-26/',\n",
       " 'https://bringatrailer.com/listing/2004-bmw-m3-convertible-10/',\n",
       " 'https://bringatrailer.com/listing/2003-bmw-m3-coupe-42/',\n",
       " 'https://bringatrailer.com/listing/2003-bmw-m3-coupe-41/',\n",
       " 'https://bringatrailer.com/listing/2005-bmw-m3-coupe-17/',\n",
       " 'https://bringatrailer.com/listing/2006-bmw-m3-convertible-9/',\n",
       " 'https://bringatrailer.com/listing/2004-bmw-m3-23/',\n",
       " 'https://bringatrailer.com/listing/2001-bmw-m3-22/',\n",
       " 'https://bringatrailer.com/listing/2003-bmw-m3-coupe-40/',\n",
       " 'https://bringatrailer.com/listing/2003-bmw-m3-coupe-39/',\n",
       " 'https://bringatrailer.com/listing/2001-bmw-m3-24/',\n",
       " 'https://bringatrailer.com/listing/2005-bmw-m3-25/',\n",
       " 'https://bringatrailer.com/listing/2006-bmw-m3-coupe-12/',\n",
       " 'https://bringatrailer.com/listing/2002-bmw-m3-53/',\n",
       " 'https://bringatrailer.com/listing/2006-bmw-m3-convertible-8/',\n",
       " 'https://bringatrailer.com/listing/2005-bmw-m3-23/',\n",
       " 'https://bringatrailer.com/listing/2002-bmw-m3-59/',\n",
       " 'https://bringatrailer.com/listing/2001-bmw-m3-21/',\n",
       " 'https://bringatrailer.com/listing/2004-bmw-m3-coupe-25/',\n",
       " 'https://bringatrailer.com/listing/2005-bmw-m3-coupe-15/',\n",
       " 'https://bringatrailer.com/listing/2005-bmw-m3-convertible-12/',\n",
       " 'https://bringatrailer.com/listing/2003-bmw-m3-coupe-38/',\n",
       " 'https://bringatrailer.com/listing/2004-bmw-m3-21/',\n",
       " 'https://bringatrailer.com/listing/2006-bmw-m3-coupe-11/',\n",
       " 'https://bringatrailer.com/listing/2001-bmw-m3-20/',\n",
       " 'https://bringatrailer.com/listing/2001-bmw-m3-19/',\n",
       " 'https://bringatrailer.com/listing/2001-bmw-m3-18/',\n",
       " 'https://bringatrailer.com/listing/2002-bmw-m-coupe-10/',\n",
       " 'https://bringatrailer.com/listing/2006-bmw-m3-14/',\n",
       " 'https://bringatrailer.com/listing/2002-bmw-m3-52/',\n",
       " 'https://bringatrailer.com/listing/2004-bmw-m3-coupe-24/',\n",
       " 'https://bringatrailer.com/listing/2003-bmw-m3-convertible-5/',\n",
       " 'https://bringatrailer.com/listing/2002-bmw-m3-50/',\n",
       " 'https://bringatrailer.com/listing/2003-bmw-m3-csl-2/',\n",
       " 'https://bringatrailer.com/listing/2004-bmw-m3-19/',\n",
       " 'https://bringatrailer.com/listing/2006-bmw-m3-coupe-10/',\n",
       " 'https://bringatrailer.com/listing/2006-bmw-m3-convertible-4/',\n",
       " 'https://bringatrailer.com/listing/2002-bmw-m3-48/',\n",
       " 'https://bringatrailer.com/listing/2005-bmw-m3-coupe-13-2/',\n",
       " 'https://bringatrailer.com/listing/2005-bmw-m3-19/',\n",
       " 'https://bringatrailer.com/listing/2003-bmw-m3-coupe-35/',\n",
       " 'https://bringatrailer.com/listing/2005-bmw-m3-18/',\n",
       " 'https://bringatrailer.com/listing/2001-bmw-m3-17/',\n",
       " 'https://bringatrailer.com/listing/2004-bmw-m3-coupe-23/',\n",
       " 'https://bringatrailer.com/listing/2001-bmw-m3-16/',\n",
       " 'https://bringatrailer.com/listing/2002-bmw-m3-46/',\n",
       " 'https://bringatrailer.com/listing/2003-bmw-m3-convertible-4/',\n",
       " 'https://bringatrailer.com/listing/2005-bmw-m3-coupe-13/',\n",
       " 'https://bringatrailer.com/listing/2002-bmw-m3-45/',\n",
       " 'https://bringatrailer.com/listing/2003-bmw-m3-coupe-33/',\n",
       " 'https://bringatrailer.com/listing/2003-bmw-e46-m3-convertible-jet-black-not-carbon-6-speed-3-pedal/',\n",
       " 'https://bringatrailer.com/listing/2005-bmw-m3-coupe-11/',\n",
       " 'https://bringatrailer.com/listing/2004-bmw-m3-convertible-8/',\n",
       " 'https://bringatrailer.com/listing/2004-bmw-m3-coupe-18/',\n",
       " 'https://bringatrailer.com/listing/2004-bmw-m3-convertible-7/',\n",
       " 'https://bringatrailer.com/listing/2005-bmw-m3-coupe-9/',\n",
       " 'https://bringatrailer.com/listing/2002-bmw-m3-convertible-11/',\n",
       " 'https://bringatrailer.com/listing/2003-bmw-m3-coupe-29/',\n",
       " 'https://bringatrailer.com/listing/2004-bmw-m3-coupe-17/',\n",
       " 'https://bringatrailer.com/listing/2002-bmw-m3-37/',\n",
       " 'https://bringatrailer.com/listing/2003-bmw-m3-coupe-27/',\n",
       " 'https://bringatrailer.com/listing/2003-bmw-m3-coupe-28/',\n",
       " 'https://bringatrailer.com/listing/2002-bmw-m3-38/',\n",
       " 'https://bringatrailer.com/listing/2005-bmw-m3-coupe-7/',\n",
       " 'https://bringatrailer.com/listing/2002-bmw-m3-35/',\n",
       " 'https://bringatrailer.com/listing/2002-bmw-m3-34/',\n",
       " 'https://bringatrailer.com/listing/2002-bmw-m3-33/',\n",
       " 'https://bringatrailer.com/listing/2003-bmw-m3-coupe-24/',\n",
       " 'https://bringatrailer.com/listing/2001-bmw-m3-15/',\n",
       " 'https://bringatrailer.com/listing/2006-bmw-m3-8/',\n",
       " 'https://bringatrailer.com/listing/2003-bmw-m3-coupe-15/',\n",
       " 'https://bringatrailer.com/listing/2003-bmw-m3-coupe-22/',\n",
       " 'https://bringatrailer.com/listing/2004-bmw-m3-12/',\n",
       " 'https://bringatrailer.com/listing/2002-bmw-m3-31/',\n",
       " 'https://bringatrailer.com/listing/2005-bmw-m3-convertible-8/',\n",
       " 'https://bringatrailer.com/listing/2001-bmw-m3-14/',\n",
       " 'https://bringatrailer.com/listing/2004-bmw-m3-coupe-12/',\n",
       " 'https://bringatrailer.com/listing/2001-bmw-m3-12/',\n",
       " 'https://bringatrailer.com/listing/2001-bmw-m3-13/',\n",
       " 'https://bringatrailer.com/listing/2003-bmw-m3-coupe-14/',\n",
       " 'https://bringatrailer.com/listing/2006-bmw-m3-coupe-6/',\n",
       " 'https://bringatrailer.com/listing/2002-bmw-m3-23/',\n",
       " 'https://bringatrailer.com/listing/2005-bmw-m3-15/',\n",
       " 'https://bringatrailer.com/listing/2003-bmw-m3-convertible-2/',\n",
       " 'https://bringatrailer.com/listing/2005-bmw-m3-12/',\n",
       " 'https://bringatrailer.com/listing/2001-bmw-m3-9/',\n",
       " 'https://bringatrailer.com/listing/2006-bmw-m3-coupe-3/',\n",
       " 'https://bringatrailer.com/listing/2002-bmw-m3-21/',\n",
       " 'https://bringatrailer.com/listing/2006-bmw-m3-6/',\n",
       " 'https://bringatrailer.com/listing/2005-bmw-m3-convertible-5/',\n",
       " 'https://bringatrailer.com/listing/2004-bmw-m3-coupe-8/',\n",
       " 'https://bringatrailer.com/listing/2005-bmw-m3-10/',\n",
       " 'https://bringatrailer.com/listing/2005-bmw-m3-coupe-3-3/',\n",
       " 'https://bringatrailer.com/listing/2006-bmw-m3-5/',\n",
       " 'https://bringatrailer.com/listing/2006-bmw-m3-coupe-2/',\n",
       " 'https://bringatrailer.com/listing/2002-bmw-m3-convertible-7/',\n",
       " 'https://bringatrailer.com/listing/2002-bmw-m3-17/',\n",
       " 'https://bringatrailer.com/listing/2005-bmw-m3-coupe-3/',\n",
       " 'https://bringatrailer.com/listing/2002-bmw-m3-convertible-8/',\n",
       " 'https://bringatrailer.com/listing/2005-bmw-m3-9/',\n",
       " 'https://bringatrailer.com/listing/2002-bmw-m3-15/',\n",
       " 'https://bringatrailer.com/listing/2002-bmw-m3-12/',\n",
       " 'https://bringatrailer.com/listing/2002-bmw-m3-14/',\n",
       " 'https://bringatrailer.com/listing/2004-bmw-m3-8/',\n",
       " 'https://bringatrailer.com/listing/2001-bmw-m3-4/',\n",
       " 'https://bringatrailer.com/listing/2002-bmw-m3-13/',\n",
       " 'https://bringatrailer.com/listing/2003-bmw-m3-convertible/',\n",
       " 'https://bringatrailer.com/listing/2004-bmw-m3-9/',\n",
       " 'https://bringatrailer.com/listing/2002-bmw-m3-10/',\n",
       " 'https://bringatrailer.com/listing/2005-bmw-m3-6/',\n",
       " 'https://bringatrailer.com/listing/2003-bmw-m3-coupe-3/',\n",
       " 'https://bringatrailer.com/listing/2004-bmw-m3-coupe-4/',\n",
       " 'https://bringatrailer.com/listing/2006-bmw-m3-convertible-2/',\n",
       " 'https://bringatrailer.com/listing/2002-bmw-m3-6/',\n",
       " 'https://bringatrailer.com/listing/2002-bmw-m3-7/',\n",
       " 'https://bringatrailer.com/listing/2001-bmw-m3-coupe/',\n",
       " 'https://bringatrailer.com/listing/2004-bmw-m3-coupe/',\n",
       " 'https://bringatrailer.com/listing/2005-bmw-m3-3/',\n",
       " 'https://bringatrailer.com/listing/2002-bmw-m3-3/',\n",
       " 'https://bringatrailer.com/listing/2004-bmw-m3-2/',\n",
       " 'https://bringatrailer.com/listing/2006-bmw-m3-competition-package/',\n",
       " 'https://bringatrailer.com/listing/2002-bmw-m3/',\n",
       " 'https://bringatrailer.com/listing/2005-bmw-m3-2/',\n",
       " 'https://bringatrailer.com/listing/2001-bmw-m3-2/',\n",
       " 'https://bringatrailer.com/listing/2001-bmw-m3/',\n",
       " 'https://bringatrailer.com/listing/2002-bmw-m3-convertible-2/',\n",
       " 'https://bringatrailer.com/listing/2002-bmw-m3-convertible/',\n",
       " 'https://bringatrailer.com/listing/2006-bmw-m3-coupe/',\n",
       " 'https://bringatrailer.com/listing/2001-dinan-s3-r-spec-e46-m3/']"
      ]
     },
     "execution_count": 336,
     "metadata": {},
     "output_type": "execute_result"
    }
   ],
   "source": [
    "url_list = [link['href'] for link in url_anchor_list]\n",
    "url_list"
   ]
  },
  {
   "cell_type": "code",
   "execution_count": 337,
   "id": "bc0e566e",
   "metadata": {},
   "outputs": [
    {
     "data": {
      "text/plain": [
       "537"
      ]
     },
     "execution_count": 337,
     "metadata": {},
     "output_type": "execute_result"
    }
   ],
   "source": [
    "len(url_list)"
   ]
  },
  {
   "cell_type": "code",
   "execution_count": 340,
   "id": "9e4a81f3",
   "metadata": {},
   "outputs": [],
   "source": [
    "e46_m3_url_list_df = pd.DataFrame(url_list)"
   ]
  },
  {
   "cell_type": "code",
   "execution_count": 342,
   "id": "2f438586",
   "metadata": {},
   "outputs": [],
   "source": [
    "e46_m3_url_list_df.to_csv('e46_m3_url_list', header = False)"
   ]
  },
  {
   "cell_type": "code",
   "execution_count": 344,
   "id": "effe8c62",
   "metadata": {},
   "outputs": [
    {
     "data": {
      "text/html": [
       "<div>\n",
       "<style scoped>\n",
       "    .dataframe tbody tr th:only-of-type {\n",
       "        vertical-align: middle;\n",
       "    }\n",
       "\n",
       "    .dataframe tbody tr th {\n",
       "        vertical-align: top;\n",
       "    }\n",
       "\n",
       "    .dataframe thead th {\n",
       "        text-align: right;\n",
       "    }\n",
       "</style>\n",
       "<table border=\"1\" class=\"dataframe\">\n",
       "  <thead>\n",
       "    <tr style=\"text-align: right;\">\n",
       "      <th></th>\n",
       "      <th>0</th>\n",
       "    </tr>\n",
       "  </thead>\n",
       "  <tbody>\n",
       "    <tr>\n",
       "      <th>0</th>\n",
       "      <td>https://bringatrailer.com/listing/2003-bmw-m3-...</td>\n",
       "    </tr>\n",
       "    <tr>\n",
       "      <th>1</th>\n",
       "      <td>https://bringatrailer.com/listing/2004-bmw-m3-...</td>\n",
       "    </tr>\n",
       "    <tr>\n",
       "      <th>2</th>\n",
       "      <td>https://bringatrailer.com/listing/2006-bmw-m3-...</td>\n",
       "    </tr>\n",
       "    <tr>\n",
       "      <th>3</th>\n",
       "      <td>https://bringatrailer.com/listing/2003-bmw-m3-...</td>\n",
       "    </tr>\n",
       "    <tr>\n",
       "      <th>4</th>\n",
       "      <td>https://bringatrailer.com/listing/2005-bmw-m3-72/</td>\n",
       "    </tr>\n",
       "  </tbody>\n",
       "</table>\n",
       "</div>"
      ],
      "text/plain": [
       "                                                   0\n",
       "0  https://bringatrailer.com/listing/2003-bmw-m3-...\n",
       "1  https://bringatrailer.com/listing/2004-bmw-m3-...\n",
       "2  https://bringatrailer.com/listing/2006-bmw-m3-...\n",
       "3  https://bringatrailer.com/listing/2003-bmw-m3-...\n",
       "4  https://bringatrailer.com/listing/2005-bmw-m3-72/"
      ]
     },
     "execution_count": 344,
     "metadata": {},
     "output_type": "execute_result"
    }
   ],
   "source": []
  },
  {
   "cell_type": "code",
   "execution_count": 349,
   "id": "b575cd4d",
   "metadata": {},
   "outputs": [],
   "source": [
    "cars_df = pd.DataFrame(columns = ['URL', 'VIN', 'YEAR', 'MILEAGE', 'EXT_COLOR', 'INT_COLOR', 'TRANSMISSION', 'BODY_STYLE', 'LOCATION', 'DATE_SOLD', 'SELLER_TYPE', 'NUM_PHOTOS', 'SALE_PRICE'])"
   ]
  },
  {
   "cell_type": "code",
   "execution_count": 351,
   "id": "eac66a11",
   "metadata": {},
   "outputs": [
    {
     "data": {
      "text/plain": [
       "(0, 13)"
      ]
     },
     "execution_count": 351,
     "metadata": {},
     "output_type": "execute_result"
    }
   ],
   "source": [
    "cars_df.shape"
   ]
  },
  {
   "cell_type": "code",
   "execution_count": 359,
   "id": "388047c1",
   "metadata": {},
   "outputs": [
    {
     "data": {
      "text/html": [
       "<div>\n",
       "<style scoped>\n",
       "    .dataframe tbody tr th:only-of-type {\n",
       "        vertical-align: middle;\n",
       "    }\n",
       "\n",
       "    .dataframe tbody tr th {\n",
       "        vertical-align: top;\n",
       "    }\n",
       "\n",
       "    .dataframe thead th {\n",
       "        text-align: right;\n",
       "    }\n",
       "</style>\n",
       "<table border=\"1\" class=\"dataframe\">\n",
       "  <thead>\n",
       "    <tr style=\"text-align: right;\">\n",
       "      <th></th>\n",
       "      <th>URL</th>\n",
       "      <th>VIN</th>\n",
       "      <th>YEAR</th>\n",
       "      <th>MILEAGE</th>\n",
       "      <th>EXT_COLOR</th>\n",
       "      <th>INT_COLOR</th>\n",
       "      <th>TRANSMISSION</th>\n",
       "      <th>BODY_STYLE</th>\n",
       "      <th>LOCATION</th>\n",
       "      <th>DATE_SOLD</th>\n",
       "      <th>SELLER_TYPE</th>\n",
       "      <th>NUM_PHOTOS</th>\n",
       "      <th>SALE_PRICE</th>\n",
       "    </tr>\n",
       "  </thead>\n",
       "  <tbody>\n",
       "    <tr>\n",
       "      <th>0</th>\n",
       "      <td>https://bringatrailer.com/listing/2005-bmw-m3-72/</td>\n",
       "      <td>Chassis: WBSBL93465PN60289</td>\n",
       "      <td>2005</td>\n",
       "      <td>30k Miles</td>\n",
       "      <td>Titanium Silver Metallic</td>\n",
       "      <td>Black Nappa Leather Upholstery</td>\n",
       "      <td>Six-Speed Manual Transmission</td>\n",
       "      <td>Hard top</td>\n",
       "      <td>Location: Phoenix, Arizona 85018</td>\n",
       "      <td>2021-09-15</td>\n",
       "      <td>Private Party Or Dealer: Private Party</td>\n",
       "      <td>42</td>\n",
       "      <td>40250</td>\n",
       "    </tr>\n",
       "  </tbody>\n",
       "</table>\n",
       "</div>"
      ],
      "text/plain": [
       "                                                 URL  \\\n",
       "0  https://bringatrailer.com/listing/2005-bmw-m3-72/   \n",
       "\n",
       "                          VIN  YEAR    MILEAGE                 EXT_COLOR  \\\n",
       "0  Chassis: WBSBL93465PN60289  2005  30k Miles  Titanium Silver Metallic   \n",
       "\n",
       "                        INT_COLOR                   TRANSMISSION BODY_STYLE  \\\n",
       "0  Black Nappa Leather Upholstery  Six-Speed Manual Transmission   Hard top   \n",
       "\n",
       "                           LOCATION  DATE_SOLD  \\\n",
       "0  Location: Phoenix, Arizona 85018 2021-09-15   \n",
       "\n",
       "                              SELLER_TYPE NUM_PHOTOS SALE_PRICE  \n",
       "0  Private Party Or Dealer: Private Party         42      40250  "
      ]
     },
     "execution_count": 359,
     "metadata": {},
     "output_type": "execute_result"
    }
   ],
   "source": [
    "cars_df.append({'URL' : url,\n",
    "               'VIN' : get_VIN(listing_essentials),\n",
    "               'YEAR' : get_model_year(listing_title),\n",
    "               'MILEAGE' : get_mileage(listing_essentials),\n",
    "               'EXT_COLOR' : get_exterior_color(listing_essentials),\n",
    "               'INT_COLOR' : get_interior_color(listing_essentials),\n",
    "               'TRANSMISSION' : get_transmission(listing_essentials),\n",
    "               'BODY_STYLE' : get_body_style(listing_title),\n",
    "               'LOCATION' : get_location(listing_essentials),\n",
    "               'DATE_SOLD' : get_date_sold(),\n",
    "               'SELLER_TYPE' : get_seller_type(listing_essentials),\n",
    "               'NUM_PHOTOS' : num_photos,\n",
    "               'SALE_PRICE' : sale_price}, ignore_index = True)"
   ]
  },
  {
   "cell_type": "code",
   "execution_count": 361,
   "id": "a47e6ba2",
   "metadata": {},
   "outputs": [],
   "source": [
    "cars_df = cars_df.append({'URL' : url,\n",
    "               'VIN' : get_VIN(listing_essentials),\n",
    "               'YEAR' : get_model_year(listing_title),\n",
    "               'MILEAGE' : get_mileage(listing_essentials),\n",
    "               'EXT_COLOR' : get_exterior_color(listing_essentials),\n",
    "               'INT_COLOR' : get_interior_color(listing_essentials),\n",
    "               'TRANSMISSION' : get_transmission(listing_essentials),\n",
    "               'BODY_STYLE' : get_body_style(listing_title),\n",
    "               'LOCATION' : get_location(listing_essentials),\n",
    "               'DATE_SOLD' : get_date_sold(),\n",
    "               'SELLER_TYPE' : get_seller_type(listing_essentials),\n",
    "               'NUM_PHOTOS' : num_photos,\n",
    "               'SALE_PRICE' : sale_price}, ignore_index = True)"
   ]
  },
  {
   "cell_type": "code",
   "execution_count": 362,
   "id": "64d638d5",
   "metadata": {},
   "outputs": [
    {
     "data": {
      "text/html": [
       "<div>\n",
       "<style scoped>\n",
       "    .dataframe tbody tr th:only-of-type {\n",
       "        vertical-align: middle;\n",
       "    }\n",
       "\n",
       "    .dataframe tbody tr th {\n",
       "        vertical-align: top;\n",
       "    }\n",
       "\n",
       "    .dataframe thead th {\n",
       "        text-align: right;\n",
       "    }\n",
       "</style>\n",
       "<table border=\"1\" class=\"dataframe\">\n",
       "  <thead>\n",
       "    <tr style=\"text-align: right;\">\n",
       "      <th></th>\n",
       "      <th>URL</th>\n",
       "      <th>VIN</th>\n",
       "      <th>YEAR</th>\n",
       "      <th>MILEAGE</th>\n",
       "      <th>EXT_COLOR</th>\n",
       "      <th>INT_COLOR</th>\n",
       "      <th>TRANSMISSION</th>\n",
       "      <th>BODY_STYLE</th>\n",
       "      <th>LOCATION</th>\n",
       "      <th>DATE_SOLD</th>\n",
       "      <th>SELLER_TYPE</th>\n",
       "      <th>NUM_PHOTOS</th>\n",
       "      <th>SALE_PRICE</th>\n",
       "    </tr>\n",
       "  </thead>\n",
       "  <tbody>\n",
       "    <tr>\n",
       "      <th>0</th>\n",
       "      <td>https://bringatrailer.com/listing/2005-bmw-m3-72/</td>\n",
       "      <td>Chassis: WBSBL93465PN60289</td>\n",
       "      <td>2005</td>\n",
       "      <td>30k Miles</td>\n",
       "      <td>Titanium Silver Metallic</td>\n",
       "      <td>Black Nappa Leather Upholstery</td>\n",
       "      <td>Six-Speed Manual Transmission</td>\n",
       "      <td>Hard top</td>\n",
       "      <td>Location: Phoenix, Arizona 85018</td>\n",
       "      <td>2021-09-15</td>\n",
       "      <td>Private Party Or Dealer: Private Party</td>\n",
       "      <td>42</td>\n",
       "      <td>40250</td>\n",
       "    </tr>\n",
       "  </tbody>\n",
       "</table>\n",
       "</div>"
      ],
      "text/plain": [
       "                                                 URL  \\\n",
       "0  https://bringatrailer.com/listing/2005-bmw-m3-72/   \n",
       "\n",
       "                          VIN  YEAR    MILEAGE                 EXT_COLOR  \\\n",
       "0  Chassis: WBSBL93465PN60289  2005  30k Miles  Titanium Silver Metallic   \n",
       "\n",
       "                        INT_COLOR                   TRANSMISSION BODY_STYLE  \\\n",
       "0  Black Nappa Leather Upholstery  Six-Speed Manual Transmission   Hard top   \n",
       "\n",
       "                           LOCATION  DATE_SOLD  \\\n",
       "0  Location: Phoenix, Arizona 85018 2021-09-15   \n",
       "\n",
       "                              SELLER_TYPE NUM_PHOTOS SALE_PRICE  \n",
       "0  Private Party Or Dealer: Private Party         42      40250  "
      ]
     },
     "execution_count": 362,
     "metadata": {},
     "output_type": "execute_result"
    }
   ],
   "source": [
    "cars_df"
   ]
  },
  {
   "cell_type": "code",
   "execution_count": null,
   "id": "5bd74466",
   "metadata": {},
   "outputs": [],
   "source": []
  }
 ],
 "metadata": {
  "kernelspec": {
   "display_name": "Python 3",
   "language": "python",
   "name": "python3"
  },
  "language_info": {
   "codemirror_mode": {
    "name": "ipython",
    "version": 3
   },
   "file_extension": ".py",
   "mimetype": "text/x-python",
   "name": "python",
   "nbconvert_exporter": "python",
   "pygments_lexer": "ipython3",
   "version": "3.8.8"
  }
 },
 "nbformat": 4,
 "nbformat_minor": 5
}
